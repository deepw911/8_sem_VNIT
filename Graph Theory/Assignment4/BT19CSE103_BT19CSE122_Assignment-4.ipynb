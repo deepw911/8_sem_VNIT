{
 "cells": [
  {
   "cell_type": "code",
   "execution_count": 1,
   "metadata": {},
   "outputs": [
    {
     "name": "stderr",
     "output_type": "stream",
     "text": [
      "[nltk_data] Downloading package punkt to /Users/deepwalke/nltk_data...\n",
      "[nltk_data]   Package punkt is already up-to-date!\n",
      "[nltk_data] Downloading package wordnet to\n",
      "[nltk_data]     /Users/deepwalke/nltk_data...\n",
      "[nltk_data]   Package wordnet is already up-to-date!\n"
     ]
    }
   ],
   "source": [
    "#import libraries below\n",
    "import numpy as np \n",
    "import random\n",
    "import pandas as pd \n",
    "import matplotlib.pyplot as plt                                           \n",
    "import seaborn as sns                                                    \n",
    "import networkx as nx\n",
    "\n",
    "from collections import Counter                                                 # counter for key-value pairs in an object\n",
    "\n",
    "import re, string, unicodedata                                                  # import text preprocessing libraries\n",
    "import contractions                                                             # import contractions library\n",
    "from bs4 import BeautifulSoup                                                   # import BeautifulSoup\n",
    "\n",
    "from wordcloud import WordCloud, STOPWORDS, ImageColorGenerator                 # import wordcloud of a corpus, stopwords\n",
    "import nltk                                                                     # import nltk library\n",
    "from nltk.corpus import stopwords                                               # import nltk stopwords\n",
    "from nltk.tokenize import word_tokenize, sent_tokenize                          # import Tokenizer\n",
    "from nltk.stem.wordnet import WordNetLemmatizer                                 # import Lemmatizer\n",
    "from nltk.stem.porter import PorterStemmer                                      # import Stemmer\n",
    "\n",
    "from sklearn.feature_extraction.text import CountVectorizer                     # import CountVectorizer\n",
    "from sklearn.feature_extraction.text import TfidfVectorizer                     # import TF-IDF\n",
    "\n",
    "from sklearn.model_selection import train_test_split\n",
    "from sklearn.model_selection import KFold , StratifiedKFold, cross_val_score\n",
    "from sklearn.metrics import accuracy_score\n",
    "\n",
    "from sklearn.ensemble import RandomForestClassifier                             # import Random Forest Classifier\n",
    "from sklearn.metrics import classification_report                               # import classification report\n",
    "from sklearn.model_selection import cross_val_score \n",
    "from sklearn.metrics.pairwise import cosine_similarity\n",
    "# download stopwords\n",
    "nltk.download('punkt')\n",
    "nltk.download('wordnet')\n",
    "import copy "
   ]
  },
  {
   "cell_type": "markdown",
   "metadata": {},
   "source": []
  },
  {
   "attachments": {},
   "cell_type": "markdown",
   "metadata": {},
   "source": [
    "# IMPORT DATA"
   ]
  },
  {
   "cell_type": "code",
   "execution_count": 2,
   "metadata": {},
   "outputs": [],
   "source": [
    "# load the dataset of tweets\n",
    "path1 = \"/Users/deepwalke/Documents/deep/8th sem/Graph Theory/Assignment4/Tweets.csv\"\n",
    "tweets = pd.read_csv(path1)\n",
    "# create copy of dataset\n",
    "df = tweets.copy()"
   ]
  },
  {
   "cell_type": "code",
   "execution_count": 3,
   "metadata": {},
   "outputs": [
    {
     "data": {
      "text/plain": [
       "(14640, 15)"
      ]
     },
     "execution_count": 3,
     "metadata": {},
     "output_type": "execute_result"
    }
   ],
   "source": [
    "# print the shape of the dataset\n",
    "df.shape"
   ]
  },
  {
   "cell_type": "code",
   "execution_count": 4,
   "metadata": {},
   "outputs": [
    {
     "data": {
      "text/html": [
       "<div>\n",
       "<style scoped>\n",
       "    .dataframe tbody tr th:only-of-type {\n",
       "        vertical-align: middle;\n",
       "    }\n",
       "\n",
       "    .dataframe tbody tr th {\n",
       "        vertical-align: top;\n",
       "    }\n",
       "\n",
       "    .dataframe thead th {\n",
       "        text-align: right;\n",
       "    }\n",
       "</style>\n",
       "<table border=\"1\" class=\"dataframe\">\n",
       "  <thead>\n",
       "    <tr style=\"text-align: right;\">\n",
       "      <th></th>\n",
       "      <th>tweet_id</th>\n",
       "      <th>airline_sentiment</th>\n",
       "      <th>airline_sentiment_confidence</th>\n",
       "      <th>negativereason</th>\n",
       "      <th>negativereason_confidence</th>\n",
       "      <th>airline</th>\n",
       "      <th>airline_sentiment_gold</th>\n",
       "      <th>name</th>\n",
       "      <th>negativereason_gold</th>\n",
       "      <th>retweet_count</th>\n",
       "      <th>text</th>\n",
       "      <th>tweet_coord</th>\n",
       "      <th>tweet_created</th>\n",
       "      <th>tweet_location</th>\n",
       "      <th>user_timezone</th>\n",
       "    </tr>\n",
       "  </thead>\n",
       "  <tbody>\n",
       "    <tr>\n",
       "      <th>0</th>\n",
       "      <td>570306133677760513</td>\n",
       "      <td>neutral</td>\n",
       "      <td>1.0000</td>\n",
       "      <td>NaN</td>\n",
       "      <td>NaN</td>\n",
       "      <td>Virgin America</td>\n",
       "      <td>NaN</td>\n",
       "      <td>cairdin</td>\n",
       "      <td>NaN</td>\n",
       "      <td>0</td>\n",
       "      <td>@VirginAmerica What @dhepburn said.</td>\n",
       "      <td>NaN</td>\n",
       "      <td>2015-02-24 11:35:52 -0800</td>\n",
       "      <td>NaN</td>\n",
       "      <td>Eastern Time (US &amp; Canada)</td>\n",
       "    </tr>\n",
       "    <tr>\n",
       "      <th>1</th>\n",
       "      <td>570301130888122368</td>\n",
       "      <td>positive</td>\n",
       "      <td>0.3486</td>\n",
       "      <td>NaN</td>\n",
       "      <td>0.0000</td>\n",
       "      <td>Virgin America</td>\n",
       "      <td>NaN</td>\n",
       "      <td>jnardino</td>\n",
       "      <td>NaN</td>\n",
       "      <td>0</td>\n",
       "      <td>@VirginAmerica plus you've added commercials t...</td>\n",
       "      <td>NaN</td>\n",
       "      <td>2015-02-24 11:15:59 -0800</td>\n",
       "      <td>NaN</td>\n",
       "      <td>Pacific Time (US &amp; Canada)</td>\n",
       "    </tr>\n",
       "    <tr>\n",
       "      <th>2</th>\n",
       "      <td>570301083672813571</td>\n",
       "      <td>neutral</td>\n",
       "      <td>0.6837</td>\n",
       "      <td>NaN</td>\n",
       "      <td>NaN</td>\n",
       "      <td>Virgin America</td>\n",
       "      <td>NaN</td>\n",
       "      <td>yvonnalynn</td>\n",
       "      <td>NaN</td>\n",
       "      <td>0</td>\n",
       "      <td>@VirginAmerica I didn't today... Must mean I n...</td>\n",
       "      <td>NaN</td>\n",
       "      <td>2015-02-24 11:15:48 -0800</td>\n",
       "      <td>Lets Play</td>\n",
       "      <td>Central Time (US &amp; Canada)</td>\n",
       "    </tr>\n",
       "    <tr>\n",
       "      <th>3</th>\n",
       "      <td>570301031407624196</td>\n",
       "      <td>negative</td>\n",
       "      <td>1.0000</td>\n",
       "      <td>Bad Flight</td>\n",
       "      <td>0.7033</td>\n",
       "      <td>Virgin America</td>\n",
       "      <td>NaN</td>\n",
       "      <td>jnardino</td>\n",
       "      <td>NaN</td>\n",
       "      <td>0</td>\n",
       "      <td>@VirginAmerica it's really aggressive to blast...</td>\n",
       "      <td>NaN</td>\n",
       "      <td>2015-02-24 11:15:36 -0800</td>\n",
       "      <td>NaN</td>\n",
       "      <td>Pacific Time (US &amp; Canada)</td>\n",
       "    </tr>\n",
       "    <tr>\n",
       "      <th>4</th>\n",
       "      <td>570300817074462722</td>\n",
       "      <td>negative</td>\n",
       "      <td>1.0000</td>\n",
       "      <td>Can't Tell</td>\n",
       "      <td>1.0000</td>\n",
       "      <td>Virgin America</td>\n",
       "      <td>NaN</td>\n",
       "      <td>jnardino</td>\n",
       "      <td>NaN</td>\n",
       "      <td>0</td>\n",
       "      <td>@VirginAmerica and it's a really big bad thing...</td>\n",
       "      <td>NaN</td>\n",
       "      <td>2015-02-24 11:14:45 -0800</td>\n",
       "      <td>NaN</td>\n",
       "      <td>Pacific Time (US &amp; Canada)</td>\n",
       "    </tr>\n",
       "  </tbody>\n",
       "</table>\n",
       "</div>"
      ],
      "text/plain": [
       "             tweet_id airline_sentiment  airline_sentiment_confidence  \\\n",
       "0  570306133677760513           neutral                        1.0000   \n",
       "1  570301130888122368          positive                        0.3486   \n",
       "2  570301083672813571           neutral                        0.6837   \n",
       "3  570301031407624196          negative                        1.0000   \n",
       "4  570300817074462722          negative                        1.0000   \n",
       "\n",
       "  negativereason  negativereason_confidence         airline  \\\n",
       "0            NaN                        NaN  Virgin America   \n",
       "1            NaN                     0.0000  Virgin America   \n",
       "2            NaN                        NaN  Virgin America   \n",
       "3     Bad Flight                     0.7033  Virgin America   \n",
       "4     Can't Tell                     1.0000  Virgin America   \n",
       "\n",
       "  airline_sentiment_gold        name negativereason_gold  retweet_count  \\\n",
       "0                    NaN     cairdin                 NaN              0   \n",
       "1                    NaN    jnardino                 NaN              0   \n",
       "2                    NaN  yvonnalynn                 NaN              0   \n",
       "3                    NaN    jnardino                 NaN              0   \n",
       "4                    NaN    jnardino                 NaN              0   \n",
       "\n",
       "                                                text tweet_coord  \\\n",
       "0                @VirginAmerica What @dhepburn said.         NaN   \n",
       "1  @VirginAmerica plus you've added commercials t...         NaN   \n",
       "2  @VirginAmerica I didn't today... Must mean I n...         NaN   \n",
       "3  @VirginAmerica it's really aggressive to blast...         NaN   \n",
       "4  @VirginAmerica and it's a really big bad thing...         NaN   \n",
       "\n",
       "               tweet_created tweet_location               user_timezone  \n",
       "0  2015-02-24 11:35:52 -0800            NaN  Eastern Time (US & Canada)  \n",
       "1  2015-02-24 11:15:59 -0800            NaN  Pacific Time (US & Canada)  \n",
       "2  2015-02-24 11:15:48 -0800      Lets Play  Central Time (US & Canada)  \n",
       "3  2015-02-24 11:15:36 -0800            NaN  Pacific Time (US & Canada)  \n",
       "4  2015-02-24 11:14:45 -0800            NaN  Pacific Time (US & Canada)  "
      ]
     },
     "execution_count": 4,
     "metadata": {},
     "output_type": "execute_result"
    }
   ],
   "source": [
    "# show first five rows of data\n",
    "df.head(n=5)"
   ]
  },
  {
   "cell_type": "code",
   "execution_count": 5,
   "metadata": {},
   "outputs": [
    {
     "name": "stdout",
     "output_type": "stream",
     "text": [
      "<class 'pandas.core.frame.DataFrame'>\n",
      "RangeIndex: 14640 entries, 0 to 14639\n",
      "Data columns (total 15 columns):\n",
      " #   Column                        Non-Null Count  Dtype  \n",
      "---  ------                        --------------  -----  \n",
      " 0   tweet_id                      14640 non-null  int64  \n",
      " 1   airline_sentiment             14640 non-null  object \n",
      " 2   airline_sentiment_confidence  14640 non-null  float64\n",
      " 3   negativereason                9178 non-null   object \n",
      " 4   negativereason_confidence     10522 non-null  float64\n",
      " 5   airline                       14640 non-null  object \n",
      " 6   airline_sentiment_gold        40 non-null     object \n",
      " 7   name                          14640 non-null  object \n",
      " 8   negativereason_gold           32 non-null     object \n",
      " 9   retweet_count                 14640 non-null  int64  \n",
      " 10  text                          14640 non-null  object \n",
      " 11  tweet_coord                   1019 non-null   object \n",
      " 12  tweet_created                 14640 non-null  object \n",
      " 13  tweet_location                9907 non-null   object \n",
      " 14  user_timezone                 9820 non-null   object \n",
      "dtypes: float64(2), int64(2), object(11)\n",
      "memory usage: 1.7+ MB\n"
     ]
    }
   ],
   "source": [
    "# show summary of dataset\n",
    "df.info()\n"
   ]
  },
  {
   "cell_type": "code",
   "execution_count": 6,
   "metadata": {},
   "outputs": [],
   "source": [
    "\n",
    "# convert all columns with dtype object into category to save memory\n",
    "for col in df.columns[df.dtypes=='object']:\n",
    "    df[col] = df[col].astype('category')"
   ]
  },
  {
   "cell_type": "code",
   "execution_count": 7,
   "metadata": {},
   "outputs": [],
   "source": [
    "# convert tweet_id into a category to save memory\n",
    "df['tweet_id'] = df['tweet_id'].astype('category')"
   ]
  },
  {
   "cell_type": "code",
   "execution_count": 8,
   "metadata": {},
   "outputs": [
    {
     "name": "stderr",
     "output_type": "stream",
     "text": [
      "/var/folders/d0/gvsk9t6s60l_qhvy15qt8k2c0000gn/T/ipykernel_5354/1342141947.py:3: FutureWarning: Using .astype to convert from timezone-aware dtype to timezone-naive dtype is deprecated and will raise in a future version.  Use obj.tz_localize(None) or obj.tz_convert('UTC').tz_localize(None) instead\n",
      "  df['tweet_created'] = df['tweet_created'].astype('datetime64[ns]')\n"
     ]
    }
   ],
   "source": [
    "# convert tweet_created into a datetime to allow for time series analysis\n",
    "df['tweet_created'] = pd.to_datetime(df['tweet_created'])\n",
    "df['tweet_created'] = df['tweet_created'].astype('datetime64[ns]')"
   ]
  },
  {
   "cell_type": "code",
   "execution_count": 9,
   "metadata": {},
   "outputs": [
    {
     "name": "stdout",
     "output_type": "stream",
     "text": [
      "<class 'pandas.core.frame.DataFrame'>\n",
      "RangeIndex: 14640 entries, 0 to 14639\n",
      "Data columns (total 15 columns):\n",
      " #   Column                        Non-Null Count  Dtype         \n",
      "---  ------                        --------------  -----         \n",
      " 0   tweet_id                      14640 non-null  category      \n",
      " 1   airline_sentiment             14640 non-null  category      \n",
      " 2   airline_sentiment_confidence  14640 non-null  float64       \n",
      " 3   negativereason                9178 non-null   category      \n",
      " 4   negativereason_confidence     10522 non-null  float64       \n",
      " 5   airline                       14640 non-null  category      \n",
      " 6   airline_sentiment_gold        40 non-null     category      \n",
      " 7   name                          14640 non-null  category      \n",
      " 8   negativereason_gold           32 non-null     category      \n",
      " 9   retweet_count                 14640 non-null  int64         \n",
      " 10  text                          14640 non-null  category      \n",
      " 11  tweet_coord                   1019 non-null   category      \n",
      " 12  tweet_created                 14640 non-null  datetime64[ns]\n",
      " 13  tweet_location                9907 non-null   category      \n",
      " 14  user_timezone                 9820 non-null   category      \n",
      "dtypes: category(11), datetime64[ns](1), float64(2), int64(1)\n",
      "memory usage: 2.3 MB\n"
     ]
    }
   ],
   "source": [
    "# show summary of dataset after conversion\n",
    "df.info()"
   ]
  },
  {
   "cell_type": "code",
   "execution_count": 10,
   "metadata": {},
   "outputs": [],
   "source": [
    "df=df.head(1000)"
   ]
  },
  {
   "cell_type": "code",
   "execution_count": 11,
   "metadata": {},
   "outputs": [],
   "source": [
    "column_list = df.columns.to_list()\n"
   ]
  },
  {
   "cell_type": "code",
   "execution_count": 12,
   "metadata": {},
   "outputs": [],
   "source": [
    "# identify columns used for model building\n",
    "columns = ['text','airline_sentiment']"
   ]
  },
  {
   "cell_type": "code",
   "execution_count": 13,
   "metadata": {},
   "outputs": [
    {
     "name": "stdout",
     "output_type": "stream",
     "text": [
      "['tweet_id', 'airline_sentiment_confidence', 'negativereason', 'negativereason_confidence', 'airline', 'airline_sentiment_gold', 'name', 'negativereason_gold', 'retweet_count', 'tweet_coord', 'tweet_created', 'tweet_location', 'user_timezone']\n"
     ]
    }
   ],
   "source": [
    "# identify columns to be dropped\n",
    "drop_columns = [col for col in column_list if col not in columns]\n",
    "print(drop_columns)"
   ]
  },
  {
   "cell_type": "code",
   "execution_count": 14,
   "metadata": {},
   "outputs": [],
   "source": [
    "# drop all other columns except “text” and “airline_sentiment”\n",
    "df_model = df.drop(columns = drop_columns)"
   ]
  },
  {
   "cell_type": "code",
   "execution_count": 15,
   "metadata": {},
   "outputs": [
    {
     "data": {
      "text/plain": [
       "(1000, 2)"
      ]
     },
     "execution_count": 15,
     "metadata": {},
     "output_type": "execute_result"
    }
   ],
   "source": [
    "# confirm new shape of the dataset\n",
    "df_model.shape"
   ]
  },
  {
   "cell_type": "code",
   "execution_count": 16,
   "metadata": {},
   "outputs": [
    {
     "data": {
      "text/html": [
       "<div>\n",
       "<style scoped>\n",
       "    .dataframe tbody tr th:only-of-type {\n",
       "        vertical-align: middle;\n",
       "    }\n",
       "\n",
       "    .dataframe tbody tr th {\n",
       "        vertical-align: top;\n",
       "    }\n",
       "\n",
       "    .dataframe thead th {\n",
       "        text-align: right;\n",
       "    }\n",
       "</style>\n",
       "<table border=\"1\" class=\"dataframe\">\n",
       "  <thead>\n",
       "    <tr style=\"text-align: right;\">\n",
       "      <th></th>\n",
       "      <th>airline_sentiment</th>\n",
       "      <th>text</th>\n",
       "    </tr>\n",
       "  </thead>\n",
       "  <tbody>\n",
       "    <tr>\n",
       "      <th>0</th>\n",
       "      <td>neutral</td>\n",
       "      <td>@VirginAmerica What @dhepburn said.</td>\n",
       "    </tr>\n",
       "    <tr>\n",
       "      <th>1</th>\n",
       "      <td>positive</td>\n",
       "      <td>@VirginAmerica plus you've added commercials to the experience... tacky.</td>\n",
       "    </tr>\n",
       "    <tr>\n",
       "      <th>2</th>\n",
       "      <td>neutral</td>\n",
       "      <td>@VirginAmerica I didn't today... Must mean I need to take another trip!</td>\n",
       "    </tr>\n",
       "    <tr>\n",
       "      <th>3</th>\n",
       "      <td>negative</td>\n",
       "      <td>@VirginAmerica it's really aggressive to blast obnoxious \"entertainment\" in your guests' faces &amp;amp; they have little recourse</td>\n",
       "    </tr>\n",
       "    <tr>\n",
       "      <th>4</th>\n",
       "      <td>negative</td>\n",
       "      <td>@VirginAmerica and it's a really big bad thing about it</td>\n",
       "    </tr>\n",
       "  </tbody>\n",
       "</table>\n",
       "</div>"
      ],
      "text/plain": [
       "  airline_sentiment  \\\n",
       "0           neutral   \n",
       "1          positive   \n",
       "2           neutral   \n",
       "3          negative   \n",
       "4          negative   \n",
       "\n",
       "                                                                                                                             text  \n",
       "0                                                                                             @VirginAmerica What @dhepburn said.  \n",
       "1                                                        @VirginAmerica plus you've added commercials to the experience... tacky.  \n",
       "2                                                         @VirginAmerica I didn't today... Must mean I need to take another trip!  \n",
       "3  @VirginAmerica it's really aggressive to blast obnoxious \"entertainment\" in your guests' faces &amp; they have little recourse  \n",
       "4                                                                         @VirginAmerica and it's a really big bad thing about it  "
      ]
     },
     "execution_count": 16,
     "metadata": {},
     "output_type": "execute_result"
    }
   ],
   "source": [
    "pd.set_option('display.max_colwidth', None) # Display full dataframe information (non-turncated text column.)\n",
    "#print head of new dataset\n",
    "df_model.head()"
   ]
  },
  {
   "attachments": {},
   "cell_type": "markdown",
   "metadata": {},
   "source": [
    "# DATA CLEANING"
   ]
  },
  {
   "cell_type": "code",
   "execution_count": 17,
   "metadata": {},
   "outputs": [
    {
     "name": "stderr",
     "output_type": "stream",
     "text": [
      "/Users/deepwalke/Library/Python/3.9/lib/python/site-packages/bs4/__init__.py:435: MarkupResemblesLocatorWarning: The input looks more like a filename than markup. You may want to open this file and pass the filehandle into Beautiful Soup.\n",
      "  warnings.warn(\n"
     ]
    },
    {
     "data": {
      "text/html": [
       "<div>\n",
       "<style scoped>\n",
       "    .dataframe tbody tr th:only-of-type {\n",
       "        vertical-align: middle;\n",
       "    }\n",
       "\n",
       "    .dataframe tbody tr th {\n",
       "        vertical-align: top;\n",
       "    }\n",
       "\n",
       "    .dataframe thead th {\n",
       "        text-align: right;\n",
       "    }\n",
       "</style>\n",
       "<table border=\"1\" class=\"dataframe\">\n",
       "  <thead>\n",
       "    <tr style=\"text-align: right;\">\n",
       "      <th></th>\n",
       "      <th>airline_sentiment</th>\n",
       "      <th>text</th>\n",
       "    </tr>\n",
       "  </thead>\n",
       "  <tbody>\n",
       "    <tr>\n",
       "      <th>0</th>\n",
       "      <td>neutral</td>\n",
       "      <td>What  said.</td>\n",
       "    </tr>\n",
       "    <tr>\n",
       "      <th>1</th>\n",
       "      <td>positive</td>\n",
       "      <td>plus you have added commercials to the experience... tacky.</td>\n",
       "    </tr>\n",
       "    <tr>\n",
       "      <th>2</th>\n",
       "      <td>neutral</td>\n",
       "      <td>I did not today... Must mean I need to take another trip!</td>\n",
       "    </tr>\n",
       "    <tr>\n",
       "      <th>3</th>\n",
       "      <td>negative</td>\n",
       "      <td>it is really aggressive to blast obnoxious \"entertainment\" in your guests' faces &amp; they have little recourse</td>\n",
       "    </tr>\n",
       "    <tr>\n",
       "      <th>4</th>\n",
       "      <td>negative</td>\n",
       "      <td>and it is a really big bad thing about it</td>\n",
       "    </tr>\n",
       "  </tbody>\n",
       "</table>\n",
       "</div>"
      ],
      "text/plain": [
       "  airline_sentiment  \\\n",
       "0           neutral   \n",
       "1          positive   \n",
       "2           neutral   \n",
       "3          negative   \n",
       "4          negative   \n",
       "\n",
       "                                                                                                            text  \n",
       "0                                                                                                    What  said.  \n",
       "1                                                    plus you have added commercials to the experience... tacky.  \n",
       "2                                                      I did not today... Must mean I need to take another trip!  \n",
       "3   it is really aggressive to blast obnoxious \"entertainment\" in your guests' faces & they have little recourse  \n",
       "4                                                                      and it is a really big bad thing about it  "
      ]
     },
     "execution_count": 17,
     "metadata": {},
     "output_type": "execute_result"
    }
   ],
   "source": [
    "#remove the html tags\n",
    "def strip_html(text):\n",
    "    soup = BeautifulSoup(text, \"html.parser\")                    \n",
    "    return soup.get_text()\n",
    "\n",
    "#expand the contractions\n",
    "def replace_contractions(text):\n",
    "    \"\"\"Replace contractions in string of text\"\"\"\n",
    "    return contractions.fix(text)\n",
    "\n",
    "#remove the numericals present in the text\n",
    "def remove_numbers(text):\n",
    "  text = re.sub(r'\\d+', '', text)\n",
    "  return text\n",
    "\n",
    "# remove the url's present in the text\n",
    "def remove_url(text): \n",
    "    text = re.sub('http[s]?://(?:[a-zA-Z]|[0-9]|[$-_@.&+]|[!*\\(\\),]|(?:%[0-9a-fA-F][0-9a-fA-F]))+','',text)\n",
    "    return text\n",
    "\n",
    "# remove the mentions in the tweets\n",
    "def remove_mention(text):\n",
    "    text = re.sub(r'@\\w+','',text)\n",
    "    return text\n",
    "\n",
    "def clean_text(text):\n",
    "    text = strip_html(text)\n",
    "    text = replace_contractions(text)\n",
    "    text = remove_numbers(text)\n",
    "    text = remove_url(text)\n",
    "    text = remove_mention(text)\n",
    "    return text\n",
    "df_model['text'] = df_model['text'].apply(lambda x: clean_text(x))\n",
    "df_model.head()"
   ]
  },
  {
   "attachments": {},
   "cell_type": "markdown",
   "metadata": {},
   "source": [
    "# TOKENIZATION"
   ]
  },
  {
   "cell_type": "code",
   "execution_count": 18,
   "metadata": {},
   "outputs": [
    {
     "data": {
      "text/html": [
       "<div>\n",
       "<style scoped>\n",
       "    .dataframe tbody tr th:only-of-type {\n",
       "        vertical-align: middle;\n",
       "    }\n",
       "\n",
       "    .dataframe tbody tr th {\n",
       "        vertical-align: top;\n",
       "    }\n",
       "\n",
       "    .dataframe thead th {\n",
       "        text-align: right;\n",
       "    }\n",
       "</style>\n",
       "<table border=\"1\" class=\"dataframe\">\n",
       "  <thead>\n",
       "    <tr style=\"text-align: right;\">\n",
       "      <th></th>\n",
       "      <th>airline_sentiment</th>\n",
       "      <th>text</th>\n",
       "    </tr>\n",
       "  </thead>\n",
       "  <tbody>\n",
       "    <tr>\n",
       "      <th>0</th>\n",
       "      <td>neutral</td>\n",
       "      <td>[What, said, .]</td>\n",
       "    </tr>\n",
       "    <tr>\n",
       "      <th>1</th>\n",
       "      <td>positive</td>\n",
       "      <td>[plus, you, have, added, commercials, to, the, experience, ..., tacky, .]</td>\n",
       "    </tr>\n",
       "    <tr>\n",
       "      <th>2</th>\n",
       "      <td>neutral</td>\n",
       "      <td>[I, did, not, today, ..., Must, mean, I, need, to, take, another, trip, !]</td>\n",
       "    </tr>\n",
       "    <tr>\n",
       "      <th>3</th>\n",
       "      <td>negative</td>\n",
       "      <td>[it, is, really, aggressive, to, blast, obnoxious, ``, entertainment, '', in, your, guests, ', faces, &amp;, they, have, little, recourse]</td>\n",
       "    </tr>\n",
       "    <tr>\n",
       "      <th>4</th>\n",
       "      <td>negative</td>\n",
       "      <td>[and, it, is, a, really, big, bad, thing, about, it]</td>\n",
       "    </tr>\n",
       "  </tbody>\n",
       "</table>\n",
       "</div>"
      ],
      "text/plain": [
       "  airline_sentiment  \\\n",
       "0           neutral   \n",
       "1          positive   \n",
       "2           neutral   \n",
       "3          negative   \n",
       "4          negative   \n",
       "\n",
       "                                                                                                                                     text  \n",
       "0                                                                                                                         [What, said, .]  \n",
       "1                                                               [plus, you, have, added, commercials, to, the, experience, ..., tacky, .]  \n",
       "2                                                              [I, did, not, today, ..., Must, mean, I, need, to, take, another, trip, !]  \n",
       "3  [it, is, really, aggressive, to, blast, obnoxious, ``, entertainment, '', in, your, guests, ', faces, &, they, have, little, recourse]  \n",
       "4                                                                                    [and, it, is, a, really, big, bad, thing, about, it]  "
      ]
     },
     "execution_count": 18,
     "metadata": {},
     "output_type": "execute_result"
    }
   ],
   "source": [
    "df_model['text'] = df_model.apply(lambda row: nltk.word_tokenize(row['text']), axis=1) # tokenization of data\n",
    "df_model.head()"
   ]
  },
  {
   "cell_type": "code",
   "execution_count": 19,
   "metadata": {},
   "outputs": [
    {
     "name": "stderr",
     "output_type": "stream",
     "text": [
      "[nltk_data] Downloading package stopwords to\n",
      "[nltk_data]     /Users/deepwalke/nltk_data...\n",
      "[nltk_data]   Package stopwords is already up-to-date!\n"
     ]
    },
    {
     "data": {
      "text/plain": [
       "True"
      ]
     },
     "execution_count": 19,
     "metadata": {},
     "output_type": "execute_result"
    }
   ],
   "source": [
    "import nltk\n",
    "nltk.download('stopwords')"
   ]
  },
  {
   "cell_type": "code",
   "execution_count": 20,
   "metadata": {},
   "outputs": [
    {
     "data": {
      "text/html": [
       "<div>\n",
       "<style scoped>\n",
       "    .dataframe tbody tr th:only-of-type {\n",
       "        vertical-align: middle;\n",
       "    }\n",
       "\n",
       "    .dataframe tbody tr th {\n",
       "        vertical-align: top;\n",
       "    }\n",
       "\n",
       "    .dataframe thead th {\n",
       "        text-align: right;\n",
       "    }\n",
       "</style>\n",
       "<table border=\"1\" class=\"dataframe\">\n",
       "  <thead>\n",
       "    <tr style=\"text-align: right;\">\n",
       "      <th></th>\n",
       "      <th>airline_sentiment</th>\n",
       "      <th>text</th>\n",
       "    </tr>\n",
       "  </thead>\n",
       "  <tbody>\n",
       "    <tr>\n",
       "      <th>0</th>\n",
       "      <td>neutral</td>\n",
       "      <td>say</td>\n",
       "    </tr>\n",
       "    <tr>\n",
       "      <th>1</th>\n",
       "      <td>positive</td>\n",
       "      <td>plus add commercials experience tacky</td>\n",
       "    </tr>\n",
       "    <tr>\n",
       "      <th>2</th>\n",
       "      <td>neutral</td>\n",
       "      <td>today must mean need take another trip</td>\n",
       "    </tr>\n",
       "    <tr>\n",
       "      <th>3</th>\n",
       "      <td>negative</td>\n",
       "      <td>really aggressive blast obnoxious entertainment guests face little recourse</td>\n",
       "    </tr>\n",
       "    <tr>\n",
       "      <th>4</th>\n",
       "      <td>negative</td>\n",
       "      <td>really big bad thing</td>\n",
       "    </tr>\n",
       "  </tbody>\n",
       "</table>\n",
       "</div>"
      ],
      "text/plain": [
       "  airline_sentiment  \\\n",
       "0           neutral   \n",
       "1          positive   \n",
       "2           neutral   \n",
       "3          negative   \n",
       "4          negative   \n",
       "\n",
       "                                                                          text  \n",
       "0                                                                          say  \n",
       "1                                        plus add commercials experience tacky  \n",
       "2                                       today must mean need take another trip  \n",
       "3  really aggressive blast obnoxious entertainment guests face little recourse  \n",
       "4                                                         really big bad thing  "
      ]
     },
     "execution_count": 20,
     "metadata": {},
     "output_type": "execute_result"
    }
   ],
   "source": [
    "stopwords = stopwords.words('english')\n",
    "custom_remove_list = ['flight']\n",
    "stopwords = list(set(stopwords)) + custom_remove_list\n",
    "lemmatizer = WordNetLemmatizer()\n",
    "\n",
    "# remove the non-ASCII characters\n",
    "def remove_non_ascii(words):\n",
    "    \"\"\"Remove non-ASCII characters from list of tokenized words\"\"\"\n",
    "    new_words = []\n",
    "    for word in words:\n",
    "        new_word = unicodedata.normalize('NFKD', word).encode('ascii', 'ignore').decode('utf-8', 'ignore')\n",
    "        new_words.append(new_word)\n",
    "    return new_words\n",
    "\n",
    "# convert all characters to lowercase\n",
    "def to_lowercase(words):\n",
    "    \"\"\"Convert all characters to lowercase from list of tokenized words\"\"\"\n",
    "    new_words = []\n",
    "    for word in words:\n",
    "        new_word = word.lower()\n",
    "        new_words.append(new_word)\n",
    "    return new_words\n",
    "\n",
    "# remove the hashtags\n",
    "def remove_hash(text):\n",
    "   \"\"\"Remove hashtags from list of tokenized words\"\"\"\n",
    "   new_words = []\n",
    "   for word in words:\n",
    "     new_word = re.sub(r'#\\w+','',word)\n",
    "     if new_word != '':\n",
    "       new_words.append(new_word)\n",
    "   return new_words\n",
    "\n",
    "# remove the punctuations\n",
    "def remove_punctuation(words):\n",
    "    \"\"\"Remove punctuation from list of tokenized words\"\"\"\n",
    "    new_words = []\n",
    "    for word in words:\n",
    "        new_word = re.sub(r'[^\\w\\s]', '', word)\n",
    "        if new_word != '':\n",
    "            new_words.append(new_word)\n",
    "    return new_words\n",
    "\n",
    "# remove the stop words\n",
    "def remove_stopwords(words):\n",
    "    \"\"\"Remove stop words from list of tokenized words\"\"\"\n",
    "    new_words = []\n",
    "    for word in words:\n",
    "        if word not in stopwords:\n",
    "            new_words.append(word)\n",
    "    return new_words\n",
    "\n",
    "# lemmatize the words\n",
    "def lemmatize_list(words):\n",
    "    new_words = []\n",
    "    for word in words:\n",
    "      new_words.append(lemmatizer.lemmatize(word, pos='v'))\n",
    "    return new_words\n",
    "\n",
    "def normalize(words):\n",
    "    words = remove_non_ascii(words)\n",
    "    words = to_lowercase(words)\n",
    "    words = remove_punctuation(words)\n",
    "    words = remove_stopwords(words)\n",
    "    words = lemmatize_list(words)\n",
    "    return ' '.join(words)\n",
    "\n",
    "df_model['text'] = df_model.apply(lambda row: normalize(row['text']), axis=1)\n",
    "df_model.head()"
   ]
  },
  {
   "cell_type": "code",
   "execution_count": 21,
   "metadata": {},
   "outputs": [
    {
     "name": "stdout",
     "output_type": "stream",
     "text": [
      "0                                                                                                     say\n",
      "1                                                                   plus add commercials experience tacky\n",
      "2                                                                  today must mean need take another trip\n",
      "3                             really aggressive blast obnoxious entertainment guests face little recourse\n",
      "4                                                                                    really big bad thing\n",
      "                                                      ...                                                \n",
      "995                                          time finally get dallas could drive less frustration cheaper\n",
      "996                                   try get final destination need compensation hrs personal time waste\n",
      "997    guy really customer service cluecould spend effort clear bin rollerboards instead art project mine\n",
      "998                                                                                         priority iove\n",
      "999                                                                               please premier platinum\n",
      "Name: text, Length: 1000, dtype: object\n"
     ]
    }
   ],
   "source": [
    "print(df_model['text'])"
   ]
  },
  {
   "cell_type": "code",
   "execution_count": 22,
   "metadata": {},
   "outputs": [],
   "source": [
    "TfVector = TfidfVectorizer(stop_words='english', token_pattern='[a-zA-Z][a-zA-Z0-9]{2,}', max_features=1000000)\n",
    "vectors = TfVector.fit_transform(df_model['text']).toarray()\n",
    "feature_names = TfVector.get_feature_names_out()\n"
   ]
  },
  {
   "cell_type": "code",
   "execution_count": 23,
   "metadata": {},
   "outputs": [
    {
     "data": {
      "text/html": [
       "<div>\n",
       "<style scoped>\n",
       "    .dataframe tbody tr th:only-of-type {\n",
       "        vertical-align: middle;\n",
       "    }\n",
       "\n",
       "    .dataframe tbody tr th {\n",
       "        vertical-align: top;\n",
       "    }\n",
       "\n",
       "    .dataframe thead th {\n",
       "        text-align: right;\n",
       "    }\n",
       "</style>\n",
       "<table border=\"1\" class=\"dataframe\">\n",
       "  <thead>\n",
       "    <tr style=\"text-align: right;\">\n",
       "      <th></th>\n",
       "      <th>abbreve</th>\n",
       "      <th>abc</th>\n",
       "      <th>ability</th>\n",
       "      <th>able</th>\n",
       "      <th>abq</th>\n",
       "      <th>absolute</th>\n",
       "      <th>absolutely</th>\n",
       "      <th>absurd</th>\n",
       "      <th>absurdly</th>\n",
       "      <th>abundance</th>\n",
       "      <th>...</th>\n",
       "      <th>youk</th>\n",
       "      <th>yous</th>\n",
       "      <th>yrs</th>\n",
       "      <th>yulord</th>\n",
       "      <th>yummy</th>\n",
       "      <th>yvr</th>\n",
       "      <th>zambia</th>\n",
       "      <th>zccu</th>\n",
       "      <th>zero</th>\n",
       "      <th>zone</th>\n",
       "    </tr>\n",
       "  </thead>\n",
       "  <tbody>\n",
       "    <tr>\n",
       "      <th>0</th>\n",
       "      <td>0.0</td>\n",
       "      <td>0.0</td>\n",
       "      <td>0.0</td>\n",
       "      <td>0.0</td>\n",
       "      <td>0.0</td>\n",
       "      <td>0.0</td>\n",
       "      <td>0.0</td>\n",
       "      <td>0.0</td>\n",
       "      <td>0.0</td>\n",
       "      <td>0.0</td>\n",
       "      <td>...</td>\n",
       "      <td>0.0</td>\n",
       "      <td>0.0</td>\n",
       "      <td>0.0</td>\n",
       "      <td>0.0</td>\n",
       "      <td>0.0</td>\n",
       "      <td>0.0</td>\n",
       "      <td>0.0</td>\n",
       "      <td>0.0</td>\n",
       "      <td>0.0</td>\n",
       "      <td>0.0</td>\n",
       "    </tr>\n",
       "    <tr>\n",
       "      <th>1</th>\n",
       "      <td>0.0</td>\n",
       "      <td>0.0</td>\n",
       "      <td>0.0</td>\n",
       "      <td>0.0</td>\n",
       "      <td>0.0</td>\n",
       "      <td>0.0</td>\n",
       "      <td>0.0</td>\n",
       "      <td>0.0</td>\n",
       "      <td>0.0</td>\n",
       "      <td>0.0</td>\n",
       "      <td>...</td>\n",
       "      <td>0.0</td>\n",
       "      <td>0.0</td>\n",
       "      <td>0.0</td>\n",
       "      <td>0.0</td>\n",
       "      <td>0.0</td>\n",
       "      <td>0.0</td>\n",
       "      <td>0.0</td>\n",
       "      <td>0.0</td>\n",
       "      <td>0.0</td>\n",
       "      <td>0.0</td>\n",
       "    </tr>\n",
       "    <tr>\n",
       "      <th>2</th>\n",
       "      <td>0.0</td>\n",
       "      <td>0.0</td>\n",
       "      <td>0.0</td>\n",
       "      <td>0.0</td>\n",
       "      <td>0.0</td>\n",
       "      <td>0.0</td>\n",
       "      <td>0.0</td>\n",
       "      <td>0.0</td>\n",
       "      <td>0.0</td>\n",
       "      <td>0.0</td>\n",
       "      <td>...</td>\n",
       "      <td>0.0</td>\n",
       "      <td>0.0</td>\n",
       "      <td>0.0</td>\n",
       "      <td>0.0</td>\n",
       "      <td>0.0</td>\n",
       "      <td>0.0</td>\n",
       "      <td>0.0</td>\n",
       "      <td>0.0</td>\n",
       "      <td>0.0</td>\n",
       "      <td>0.0</td>\n",
       "    </tr>\n",
       "    <tr>\n",
       "      <th>3</th>\n",
       "      <td>0.0</td>\n",
       "      <td>0.0</td>\n",
       "      <td>0.0</td>\n",
       "      <td>0.0</td>\n",
       "      <td>0.0</td>\n",
       "      <td>0.0</td>\n",
       "      <td>0.0</td>\n",
       "      <td>0.0</td>\n",
       "      <td>0.0</td>\n",
       "      <td>0.0</td>\n",
       "      <td>...</td>\n",
       "      <td>0.0</td>\n",
       "      <td>0.0</td>\n",
       "      <td>0.0</td>\n",
       "      <td>0.0</td>\n",
       "      <td>0.0</td>\n",
       "      <td>0.0</td>\n",
       "      <td>0.0</td>\n",
       "      <td>0.0</td>\n",
       "      <td>0.0</td>\n",
       "      <td>0.0</td>\n",
       "    </tr>\n",
       "    <tr>\n",
       "      <th>4</th>\n",
       "      <td>0.0</td>\n",
       "      <td>0.0</td>\n",
       "      <td>0.0</td>\n",
       "      <td>0.0</td>\n",
       "      <td>0.0</td>\n",
       "      <td>0.0</td>\n",
       "      <td>0.0</td>\n",
       "      <td>0.0</td>\n",
       "      <td>0.0</td>\n",
       "      <td>0.0</td>\n",
       "      <td>...</td>\n",
       "      <td>0.0</td>\n",
       "      <td>0.0</td>\n",
       "      <td>0.0</td>\n",
       "      <td>0.0</td>\n",
       "      <td>0.0</td>\n",
       "      <td>0.0</td>\n",
       "      <td>0.0</td>\n",
       "      <td>0.0</td>\n",
       "      <td>0.0</td>\n",
       "      <td>0.0</td>\n",
       "    </tr>\n",
       "    <tr>\n",
       "      <th>...</th>\n",
       "      <td>...</td>\n",
       "      <td>...</td>\n",
       "      <td>...</td>\n",
       "      <td>...</td>\n",
       "      <td>...</td>\n",
       "      <td>...</td>\n",
       "      <td>...</td>\n",
       "      <td>...</td>\n",
       "      <td>...</td>\n",
       "      <td>...</td>\n",
       "      <td>...</td>\n",
       "      <td>...</td>\n",
       "      <td>...</td>\n",
       "      <td>...</td>\n",
       "      <td>...</td>\n",
       "      <td>...</td>\n",
       "      <td>...</td>\n",
       "      <td>...</td>\n",
       "      <td>...</td>\n",
       "      <td>...</td>\n",
       "      <td>...</td>\n",
       "    </tr>\n",
       "    <tr>\n",
       "      <th>995</th>\n",
       "      <td>0.0</td>\n",
       "      <td>0.0</td>\n",
       "      <td>0.0</td>\n",
       "      <td>0.0</td>\n",
       "      <td>0.0</td>\n",
       "      <td>0.0</td>\n",
       "      <td>0.0</td>\n",
       "      <td>0.0</td>\n",
       "      <td>0.0</td>\n",
       "      <td>0.0</td>\n",
       "      <td>...</td>\n",
       "      <td>0.0</td>\n",
       "      <td>0.0</td>\n",
       "      <td>0.0</td>\n",
       "      <td>0.0</td>\n",
       "      <td>0.0</td>\n",
       "      <td>0.0</td>\n",
       "      <td>0.0</td>\n",
       "      <td>0.0</td>\n",
       "      <td>0.0</td>\n",
       "      <td>0.0</td>\n",
       "    </tr>\n",
       "    <tr>\n",
       "      <th>996</th>\n",
       "      <td>0.0</td>\n",
       "      <td>0.0</td>\n",
       "      <td>0.0</td>\n",
       "      <td>0.0</td>\n",
       "      <td>0.0</td>\n",
       "      <td>0.0</td>\n",
       "      <td>0.0</td>\n",
       "      <td>0.0</td>\n",
       "      <td>0.0</td>\n",
       "      <td>0.0</td>\n",
       "      <td>...</td>\n",
       "      <td>0.0</td>\n",
       "      <td>0.0</td>\n",
       "      <td>0.0</td>\n",
       "      <td>0.0</td>\n",
       "      <td>0.0</td>\n",
       "      <td>0.0</td>\n",
       "      <td>0.0</td>\n",
       "      <td>0.0</td>\n",
       "      <td>0.0</td>\n",
       "      <td>0.0</td>\n",
       "    </tr>\n",
       "    <tr>\n",
       "      <th>997</th>\n",
       "      <td>0.0</td>\n",
       "      <td>0.0</td>\n",
       "      <td>0.0</td>\n",
       "      <td>0.0</td>\n",
       "      <td>0.0</td>\n",
       "      <td>0.0</td>\n",
       "      <td>0.0</td>\n",
       "      <td>0.0</td>\n",
       "      <td>0.0</td>\n",
       "      <td>0.0</td>\n",
       "      <td>...</td>\n",
       "      <td>0.0</td>\n",
       "      <td>0.0</td>\n",
       "      <td>0.0</td>\n",
       "      <td>0.0</td>\n",
       "      <td>0.0</td>\n",
       "      <td>0.0</td>\n",
       "      <td>0.0</td>\n",
       "      <td>0.0</td>\n",
       "      <td>0.0</td>\n",
       "      <td>0.0</td>\n",
       "    </tr>\n",
       "    <tr>\n",
       "      <th>998</th>\n",
       "      <td>0.0</td>\n",
       "      <td>0.0</td>\n",
       "      <td>0.0</td>\n",
       "      <td>0.0</td>\n",
       "      <td>0.0</td>\n",
       "      <td>0.0</td>\n",
       "      <td>0.0</td>\n",
       "      <td>0.0</td>\n",
       "      <td>0.0</td>\n",
       "      <td>0.0</td>\n",
       "      <td>...</td>\n",
       "      <td>0.0</td>\n",
       "      <td>0.0</td>\n",
       "      <td>0.0</td>\n",
       "      <td>0.0</td>\n",
       "      <td>0.0</td>\n",
       "      <td>0.0</td>\n",
       "      <td>0.0</td>\n",
       "      <td>0.0</td>\n",
       "      <td>0.0</td>\n",
       "      <td>0.0</td>\n",
       "    </tr>\n",
       "    <tr>\n",
       "      <th>999</th>\n",
       "      <td>0.0</td>\n",
       "      <td>0.0</td>\n",
       "      <td>0.0</td>\n",
       "      <td>0.0</td>\n",
       "      <td>0.0</td>\n",
       "      <td>0.0</td>\n",
       "      <td>0.0</td>\n",
       "      <td>0.0</td>\n",
       "      <td>0.0</td>\n",
       "      <td>0.0</td>\n",
       "      <td>...</td>\n",
       "      <td>0.0</td>\n",
       "      <td>0.0</td>\n",
       "      <td>0.0</td>\n",
       "      <td>0.0</td>\n",
       "      <td>0.0</td>\n",
       "      <td>0.0</td>\n",
       "      <td>0.0</td>\n",
       "      <td>0.0</td>\n",
       "      <td>0.0</td>\n",
       "      <td>0.0</td>\n",
       "    </tr>\n",
       "  </tbody>\n",
       "</table>\n",
       "<p>1000 rows × 2069 columns</p>\n",
       "</div>"
      ],
      "text/plain": [
       "     abbreve  abc  ability  able  abq  absolute  absolutely  absurd  absurdly  \\\n",
       "0        0.0  0.0      0.0   0.0  0.0       0.0         0.0     0.0       0.0   \n",
       "1        0.0  0.0      0.0   0.0  0.0       0.0         0.0     0.0       0.0   \n",
       "2        0.0  0.0      0.0   0.0  0.0       0.0         0.0     0.0       0.0   \n",
       "3        0.0  0.0      0.0   0.0  0.0       0.0         0.0     0.0       0.0   \n",
       "4        0.0  0.0      0.0   0.0  0.0       0.0         0.0     0.0       0.0   \n",
       "..       ...  ...      ...   ...  ...       ...         ...     ...       ...   \n",
       "995      0.0  0.0      0.0   0.0  0.0       0.0         0.0     0.0       0.0   \n",
       "996      0.0  0.0      0.0   0.0  0.0       0.0         0.0     0.0       0.0   \n",
       "997      0.0  0.0      0.0   0.0  0.0       0.0         0.0     0.0       0.0   \n",
       "998      0.0  0.0      0.0   0.0  0.0       0.0         0.0     0.0       0.0   \n",
       "999      0.0  0.0      0.0   0.0  0.0       0.0         0.0     0.0       0.0   \n",
       "\n",
       "     abundance  ...  youk  yous  yrs  yulord  yummy  yvr  zambia  zccu  zero  \\\n",
       "0          0.0  ...   0.0   0.0  0.0     0.0    0.0  0.0     0.0   0.0   0.0   \n",
       "1          0.0  ...   0.0   0.0  0.0     0.0    0.0  0.0     0.0   0.0   0.0   \n",
       "2          0.0  ...   0.0   0.0  0.0     0.0    0.0  0.0     0.0   0.0   0.0   \n",
       "3          0.0  ...   0.0   0.0  0.0     0.0    0.0  0.0     0.0   0.0   0.0   \n",
       "4          0.0  ...   0.0   0.0  0.0     0.0    0.0  0.0     0.0   0.0   0.0   \n",
       "..         ...  ...   ...   ...  ...     ...    ...  ...     ...   ...   ...   \n",
       "995        0.0  ...   0.0   0.0  0.0     0.0    0.0  0.0     0.0   0.0   0.0   \n",
       "996        0.0  ...   0.0   0.0  0.0     0.0    0.0  0.0     0.0   0.0   0.0   \n",
       "997        0.0  ...   0.0   0.0  0.0     0.0    0.0  0.0     0.0   0.0   0.0   \n",
       "998        0.0  ...   0.0   0.0  0.0     0.0    0.0  0.0     0.0   0.0   0.0   \n",
       "999        0.0  ...   0.0   0.0  0.0     0.0    0.0  0.0     0.0   0.0   0.0   \n",
       "\n",
       "     zone  \n",
       "0     0.0  \n",
       "1     0.0  \n",
       "2     0.0  \n",
       "3     0.0  \n",
       "4     0.0  \n",
       "..    ...  \n",
       "995   0.0  \n",
       "996   0.0  \n",
       "997   0.0  \n",
       "998   0.0  \n",
       "999   0.0  \n",
       "\n",
       "[1000 rows x 2069 columns]"
      ]
     },
     "execution_count": 23,
     "metadata": {},
     "output_type": "execute_result"
    }
   ],
   "source": [
    "df = pd.DataFrame(vectors, columns=feature_names)\n",
    "df"
   ]
  },
  {
   "cell_type": "code",
   "execution_count": 24,
   "metadata": {},
   "outputs": [
    {
     "data": {
      "text/plain": [
       "0      1\n",
       "1      1\n",
       "2      1\n",
       "3      1\n",
       "4      1\n",
       "      ..\n",
       "995    1\n",
       "996    1\n",
       "997    1\n",
       "998    1\n",
       "999    1\n",
       "Name: text, Length: 1000, dtype: int64"
      ]
     },
     "execution_count": 24,
     "metadata": {},
     "output_type": "execute_result"
    }
   ],
   "source": [
    "# find non zero values in a matrix\n",
    "df_model['text'].apply(lambda x: np.count_nonzero(x))"
   ]
  },
  {
   "attachments": {},
   "cell_type": "markdown",
   "metadata": {},
   "source": [
    "# Q.1 Compute the complete graph G= (V, E) of the project dataset."
   ]
  },
  {
   "cell_type": "code",
   "execution_count": 25,
   "metadata": {},
   "outputs": [],
   "source": [
    "def makeGraph(vectors):\n",
    "    G = nx.Graph()\n",
    "    for i in range(len(vectors)):\n",
    "        for j in range(i+1,len(vectors)):\n",
    "            if i != j:\n",
    "                val  = 1 - cosine_similarity([vectors[i]], [vectors[j]])[0][0]\n",
    "                if val < 1:\n",
    "                    G.add_edge(i, j, weight = val)\n",
    "    return G\n",
    "\n",
    "G = makeGraph(vectors)\n"
   ]
  },
  {
   "attachments": {},
   "cell_type": "markdown",
   "metadata": {},
   "source": [
    "# Q.2. Construct MST neighborhood graph of 3-round i.e. G’ =(V, E’)."
   ]
  },
  {
   "cell_type": "code",
   "execution_count": 26,
   "metadata": {},
   "outputs": [],
   "source": [
    "# Construct MST neighborhood graph of 3-round\n",
    "T=3\n",
    "G_copy=copy.deepcopy(G)\n",
    "MST = nx.minimum_spanning_tree(G)\n",
    "MST_3 = MST\n",
    "for i in range(T-1):\n",
    "    for j in MST.edges(data=True):\n",
    "        G_copy.remove_edge(j[0],j[1])\n",
    "    MST = nx.minimum_spanning_tree(G_copy)\n",
    "    MST_3 = nx.compose(MST_3,MST)\n",
    "\n",
    "# open('Data/MST1000.txt', 'w')\n",
    "# nx.write_edgelist(MST, \"Data/MST1000.txt\", data=True)\n",
    "# print(MST.edges(data=True))"
   ]
  },
  {
   "cell_type": "code",
   "execution_count": 27,
   "metadata": {},
   "outputs": [
    {
     "name": "stdout",
     "output_type": "stream",
     "text": [
      "[(0, 526, {'weight': 0.6915733661519486}), (0, 987, {'weight': 0.7137354243949419}), (0, 529, {'weight': 0.7301714190782479}), (0, 929, {'weight': 0.7396125274913044}), (0, 181, {'weight': 0.7516191945076962}), (0, 596, {'weight': 0.7638380899659114}), (0, 779, {'weight': 0.8011098151389613}), (26, 228, {'weight': 0.7981479130259219}), (131, 624, {'weight': 0.7845863195241958}), (181, 520, {'weight': 0.7506919047322547}), (181, 341, {'weight': 0.7536336975500227}), (302, 630, {'weight': 0.8778153038384381}), (315, 812, {'weight': 0.8153245757136856}), (386, 180, {'weight': 0.842264795420936}), (407, 219, {'weight': 0.7666532861234315}), (407, 651, {'weight': 0.7854759481584124}), (407, 561, {'weight': 0.7953243779231755}), (464, 799, {'weight': 0.8187041480107992}), (464, 337, {'weight': 0.8386825903071962}), (481, 966, {'weight': 0.6989685366288538}), (481, 197, {'weight': 0.7004066654599617}), (481, 397, {'weight': 0.7823634750782466}), (481, 484, {'weight': 0.7879821493399872}), (495, 371, {'weight': 0.7150827417811181}), (495, 820, {'weight': 0.745224184361174}), (526, 920, {'weight': 0.686976614298506}), (526, 428, {'weight': 0.7798505846641917}), (529, 543, {'weight': 0.8139979007123517}), (529, 172, {'weight': 0.8220114459707871}), (569, 807, {'weight': 0.748242324512217}), (595, 227, {'weight': 0.7018305842882935}), (595, 71, {'weight': 0.7385914568201397}), (596, 736, {'weight': 0.7860105849905556}), (624, 71, {'weight': 0.7753399453365153}), (624, 85, {'weight': 0.7983893274674331}), (635, 933, {'weight': 0.8308244747892988}), (741, 153, {'weight': 0.7760243666112725}), (741, 848, {'weight': 0.7922891038285025}), (741, 907, {'weight': 0.8132040058413388}), (744, 742, {'weight': 0.7996334526292688}), (831, 650, {'weight': 0.8084908676765453}), (866, 686, {'weight': 0.8012055049066903}), (866, 479, {'weight': 0.8182814956590886}), (909, 437, {'weight': 0.7929340352740508}), (909, 982, {'weight': 0.8103586234893796}), (929, 878, {'weight': 0.7823420234288463}), (961, 157, {'weight': 0.7112873012323309}), (961, 99, {'weight': 0.7605775525386271}), (961, 135, {'weight': 0.8277565226356818}), (979, 969, {'weight': 0.8131130905666757}), (981, 575, {'weight': 0.7661399644593047}), (987, 603, {'weight': 0.7673527277260657}), (987, 827, {'weight': 0.8510408782936444}), (1, 72, {'weight': 0.8160018049836738}), (30, 61, {'weight': 0.7502270178393353}), (30, 72, {'weight': 0.7504158448857776}), (36, 404, {'weight': 0.7582694711855633}), (41, 377, {'weight': 0.7565406120546989}), (41, 759, {'weight': 0.80629504990568}), (61, 499, {'weight': 0.7315541218121104}), (72, 470, {'weight': 0.7289527907064173}), (72, 442, {'weight': 0.798714220625649}), (72, 167, {'weight': 0.8359134308755364}), (84, 275, {'weight': 0.7764453999301211}), (91, 467, {'weight': 0.7344176645534986}), (91, 377, {'weight': 0.7571062593438875}), (91, 494, {'weight': 0.8119462354910918}), (95, 300, {'weight': 0.6988567505558042}), (95, 810, {'weight': 0.7586458622587282}), (96, 163, {'weight': 0.6754147680627646}), (96, 920, {'weight': 0.6754147680627646}), (96, 245, {'weight': 0.6777181067544031}), (96, 472, {'weight': 0.7914645189743765}), (100, 240, {'weight': 0.8429346902646694}), (116, 37, {'weight': 0.7431682245108046}), (116, 578, {'weight': 0.7639569738557102}), (127, 437, {'weight': 0.7572296766123712}), (127, 695, {'weight': 0.8464710174566604}), (214, 394, {'weight': 0.7523289210608726}), (258, 246, {'weight': 0.7531423726521373}), (268, 419, {'weight': 0.800101250749373}), (272, 57, {'weight': 0.7769416929059619}), (272, 877, {'weight': 0.7908111699060967}), (272, 644, {'weight': 0.7934469486437288}), (322, 470, {'weight': 0.7796568882231691}), (342, 293, {'weight': 0.8096591704858487}), (350, 446, {'weight': 0.7941382561553986}), (350, 509, {'weight': 0.8759290061803375}), (372, 98, {'weight': 0.8043908209524879}), (372, 819, {'weight': 0.8604092349954823}), (373, 125, {'weight': 0.7949752100022988}), (373, 419, {'weight': 0.800101250749373}), (377, 808, {'weight': 0.7855413282234482}), (379, 37, {'weight': 0.7496811176460131}), (379, 89, {'weight': 0.7508694934381906}), (419, 155, {'weight': 0.7751785756598537}), (424, 443, {'weight': 0.7530223151541788}), (427, 148, {'weight': 0.7572301084574105}), (427, 491, {'weight': 0.7744879348388471}), (434, 860, {'weight': 0.7901250569013172}), (446, 141, {'weight': 0.8000227055775048}), (446, 4, {'weight': 0.8127633230904283}), (470, 193, {'weight': 0.6446168537135238}), (470, 231, {'weight': 0.6446168537135238}), (470, 196, {'weight': 0.6663046471314615}), (470, 576, {'weight': 0.7253338368274834}), (470, 783, {'weight': 0.7789893358880947}), (576, 915, {'weight': 0.7204130754037359}), (576, 198, {'weight': 0.7447275673678238}), (578, 534, {'weight': 0.7139006726003981}), (578, 437, {'weight': 0.7724626874211329}), (578, 502, {'weight': 0.8052942958426212}), (611, 308, {'weight': 0.8035308296663225}), (611, 749, {'weight': 0.8134139819203726}), (627, 125, {'weight': 0.8140592870080636}), (737, 227, {'weight': 0.7279666899015438}), (737, 757, {'weight': 0.7624002266793906}), (751, 261, {'weight': 0.8371344626326892}), (860, 963, {'weight': 0.7557093811104871}), (863, 748, {'weight': 0.7057977899096664}), (863, 382, {'weight': 0.736574097731953}), (891, 638, {'weight': 0.8220978007401727}), (933, 332, {'weight': 0.7715319704619212}), (933, 975, {'weight': 0.7729775013112381}), (933, 720, {'weight': 0.8346332838330641}), (942, 963, {'weight': 0.8138118422381301}), (2, 401, {'weight': 0.6966435785004409}), (12, 401, {'weight': 0.7176101008729259}), (12, 735, {'weight': 0.7341265939857711}), (12, 224, {'weight': 0.7511244742100578}), (12, 980, {'weight': 0.7533951500765601}), (12, 320, {'weight': 0.7760537530007825}), (12, 684, {'weight': 0.8028615614537533}), (32, 890, {'weight': 0.7477689669549608}), (32, 351, {'weight': 0.7963122791377314}), (32, 864, {'weight': 0.815079955918618}), (32, 935, {'weight': 0.8217756754449775}), (56, 612, {'weight': 0.819742526961617}), (56, 589, {'weight': 0.8300626135535534}), (70, 973, {'weight': 0.7741988149366734}), (70, 158, {'weight': 0.775395171445214}), (70, 489, {'weight': 0.7758726323323847}), (70, 873, {'weight': 0.799352782021144}), (70, 496, {'weight': 0.8064369976448033}), (71, 607, {'weight': 0.7430742794491033}), (71, 661, {'weight': 0.7852550502617327}), (71, 985, {'weight': 0.8665465790457373}), (73, 339, {'weight': 0.8461407956216316}), (88, 932, {'weight': 0.7917360424027231}), (99, 746, {'weight': 0.7630104602439658}), (107, 200, {'weight': 0.7627248267780261}), (107, 583, {'weight': 0.8251388495497922}), (108, 344, {'weight': 0.7411495591544635}), (108, 15, {'weight': 0.7981115898674378}), (114, 153, {'weight': 0.8024749172862287}), (115, 18, {'weight': 0.7342121382599143}), (115, 890, {'weight': 0.7348387629320847}), (115, 120, {'weight': 0.8342472297231386}), (126, 500, {'weight': 0.7288092802291113}), (149, 517, {'weight': 0.7376454798774835}), (149, 311, {'weight': 0.7519951145615336}), (150, 517, {'weight': 0.7035919252815975}), (150, 290, {'weight': 0.7099793521854962}), (150, 307, {'weight': 0.7610519815586443}), (160, 161, {'weight': 0.7533073926020288}), (161, 474, {'weight': 0.7326354665854006}), (197, 218, {'weight': 0.7020827757142938}), (197, 474, {'weight': 0.7042116227133515}), (197, 92, {'weight': 0.7043483813101257}), (197, 285, {'weight': 0.7141799983801252}), (197, 18, {'weight': 0.7185055076772611}), (197, 574, {'weight': 0.7185055076772611}), (197, 776, {'weight': 0.7715697288147954}), (197, 900, {'weight': 0.8281900692939267}), (211, 966, {'weight': 0.7348266564148853}), (220, 883, {'weight': 0.7897313704266531}), (221, 218, {'weight': 0.7056150835907788}), (243, 153, {'weight': 0.804329884527613}), (246, 950, {'weight': 0.7309724502269337}), (246, 735, {'weight': 0.731300399360143}), (246, 710, {'weight': 0.7696334674466654}), (261, 401, {'weight': 0.7312380687222624}), (261, 932, {'weight': 0.7481401088360187}), (261, 790, {'weight': 0.7753708256595921}), (261, 766, {'weight': 0.7864157487441832}), (261, 796, {'weight': 0.7873980574759741}), (261, 712, {'weight': 0.7986314745390118}), (261, 723, {'weight': 0.799578803780929}), (267, 789, {'weight': 0.787447386500636}), (267, 844, {'weight': 0.7959763601652322}), (284, 521, {'weight': 0.6614709720474847}), (284, 959, {'weight': 0.6703006454304892}), (285, 319, {'weight': 0.7278007887080603}), (285, 34, {'weight': 0.749956419114974}), (285, 431, {'weight': 0.7527288075078437}), (285, 625, {'weight': 0.7577284108856577}), (285, 393, {'weight': 0.7616956629727565}), (285, 400, {'weight': 0.7659021383799538}), (307, 657, {'weight': 0.7814978971567457}), (312, 384, {'weight': 0.8009565281420702}), (312, 633, {'weight': 0.8052910300991597}), (318, 340, {'weight': 0.716224082452998}), (320, 832, {'weight': 0.8240005453305316}), (326, 882, {'weight': 0.7496713604157528}), (327, 340, {'weight': 0.7548778094295172}), (340, 365, {'weight': 0.7033779079330398}), (340, 677, {'weight': 0.8162301498979169}), (340, 628, {'weight': 0.8413381636886464}), (340, 420, {'weight': 0.8446039296488634}), (354, 25, {'weight': 0.7990087606653165}), (364, 17, {'weight': 0.8447557678703986}), (365, 719, {'weight': 0.6700903338149524}), (365, 212, {'weight': 0.6779699294866912}), (382, 925, {'weight': 0.825209918083498}), (400, 631, {'weight': 0.7965277354726061}), (429, 435, {'weight': 0.7737138164796784}), (429, 806, {'weight': 0.7987146862036485}), (445, 474, {'weight': 0.7362215403100272}), (445, 531, {'weight': 0.8284997226450648}), (459, 682, {'weight': 0.7707662267582391}), (459, 428, {'weight': 0.7800141661172888}), (506, 218, {'weight': 0.7823941445750309}), (507, 839, {'weight': 0.7288656934338611}), (507, 134, {'weight': 0.7691705514289466}), (536, 474, {'weight': 0.793865012594591}), (541, 643, {'weight': 0.8206140385379956}), (552, 14, {'weight': 0.7819930312748002}), (552, 853, {'weight': 0.823164590076783}), (554, 562, {'weight': 0.8293817270465229}), (559, 404, {'weight': 0.7375687628393459}), (570, 980, {'weight': 0.770666096387265}), (570, 273, {'weight': 0.7802095288887065}), (570, 490, {'weight': 0.8186275011828446}), (570, 803, {'weight': 0.8248736062656761}), (573, 218, {'weight': 0.755776494558194}), (581, 959, {'weight': 0.8097482563654388}), (587, 472, {'weight': 0.8368608396118994}), (592, 534, {'weight': 0.8621104372370082}), (614, 980, {'weight': 0.7965376208312946}), (620, 153, {'weight': 0.7442261600985858}), (620, 461, {'weight': 0.8070657941336981}), (620, 418, {'weight': 0.8311810987401638}), (623, 305, {'weight': 0.7352370493519065}), (623, 444, {'weight': 0.8014230068319703}), (643, 300, {'weight': 0.7589899536033566}), (656, 524, {'weight': 0.707621127185462}), (656, 730, {'weight': 0.7151369462782924}), (656, 25, {'weight': 0.7773993910891849}), (656, 201, {'weight': 0.7786071781164008}), (656, 911, {'weight': 0.7795023868613871}), (656, 842, {'weight': 0.8270840290186198}), (656, 679, {'weight': 0.83101875909074}), (678, 282, {'weight': 0.8174950075125418}), (704, 785, {'weight': 0.698516225923832}), (704, 912, {'weight': 0.7860966454853994}), (704, 754, {'weight': 0.7984147628775258}), (767, 893, {'weight': 0.7902081575677598}), (768, 908, {'weight': 0.7830992891347819}), (785, 27, {'weight': 0.7327397222382335}), (785, 23, {'weight': 0.7552647065430261}), (785, 325, {'weight': 0.8086578727197393}), (807, 706, {'weight': 0.7526343177271044}), (869, 183, {'weight': 0.7534517211305615}), (869, 687, {'weight': 0.757490031340061}), (869, 522, {'weight': 0.7721725721985034}), (869, 25, {'weight': 0.7735896922514727}), (869, 162, {'weight': 0.8542562916419003}), (872, 626, {'weight': 0.7456728610749656}), (872, 724, {'weight': 0.7565581099612058}), (872, 846, {'weight': 0.8137720762488375}), (904, 231, {'weight': 0.5632735083339195}), (904, 770, {'weight': 0.6765407771942117}), (921, 604, {'weight': 0.848086556319787}), (932, 497, {'weight': 0.7892893910339185}), (957, 857, {'weight': 0.7438290370904143}), (972, 626, {'weight': 0.833522038948612}), (984, 575, {'weight': 0.801685663656478}), (984, 738, {'weight': 0.862524594984013}), (990, 371, {'weight': 0.7507358773868388}), (991, 444, {'weight': 0.8113127434823513}), (996, 798, {'weight': 0.8136573277549968}), (996, 847, {'weight': 0.8138713235556904}), (3, 913, {'weight': 0.883859991756087}), (4, 758, {'weight': 0.8119136768262518}), (4, 64, {'weight': 0.8249589327992809}), (4, 829, {'weight': 0.8317586519494647}), (4, 421, {'weight': 0.8833050444712375}), (5, 18, {'weight': 0.7569461312109579}), (5, 922, {'weight': 0.8547749640838895}), (7, 992, {'weight': 0.8559148382507895}), (145, 18, {'weight': 0.802819964734555}), (145, 778, {'weight': 0.8478039540732035}), (156, 223, {'weight': 0.8413795261012121}), (164, 196, {'weight': 0.6852151307728991}), (217, 660, {'weight': 0.7107305611913377}), (217, 843, {'weight': 0.7338735048843893}), (217, 392, {'weight': 0.737088948270283}), (217, 235, {'weight': 0.7562815618095486}), (248, 119, {'weight': 0.8074726336721656}), (335, 191, {'weight': 0.774503842541745}), (392, 409, {'weight': 0.7446850607164326}), (392, 11, {'weight': 0.7960958988104652}), (392, 718, {'weight': 0.810506980544133}), (403, 980, {'weight': 0.7474775352442172}), (403, 804, {'weight': 0.7738318507992623}), (403, 997, {'weight': 0.8547614648797475}), (465, 293, {'weight': 0.8420021549500185}), (493, 574, {'weight': 0.7331858591697404}), (553, 191, {'weight': 0.7728307045774762}), (649, 789, {'weight': 0.8336912377730938}), (654, 565, {'weight': 0.8482141994136096}), (660, 668, {'weight': 0.7196670188373588}), (679, 919, {'weight': 0.8715705937125883}), (709, 18, {'weight': 0.7740407703508934}), (721, 152, {'weight': 0.7454264717383706}), (721, 762, {'weight': 0.8132570511600208}), (800, 227, {'weight': 0.7825004585586576}), (837, 845, {'weight': 0.7883280486587917}), (913, 200, {'weight': 0.8235892994581543}), (986, 432, {'weight': 0.8386640930350329}), (986, 823, {'weight': 0.8412504942998992}), (257, 128, {'weight': 0.8075445425046035}), (414, 293, {'weight': 0.8019398551680209}), (414, 357, {'weight': 0.8229271758455607}), (530, 735, {'weight': 0.8232393902674845}), (634, 717, {'weight': 0.8632716570520101}), (717, 323, {'weight': 0.8015206843431413}), (717, 974, {'weight': 0.8796019370071889}), (731, 480, {'weight': 0.8280400369039997}), (805, 939, {'weight': 0.8609829348068745}), (851, 227, {'weight': 0.7927979808811773}), (6, 18, {'weight': 0.7633383404641209}), (6, 13, {'weight': 0.8074788686724063}), (17, 574, {'weight': 0.7933703733846806}), (18, 75, {'weight': 0.7207455907630433}), (18, 824, {'weight': 0.7288179159500243}), (18, 174, {'weight': 0.7389009446068625}), (18, 223, {'weight': 0.7422924846130915}), (18, 279, {'weight': 0.7512472383712592}), (18, 833, {'weight': 0.7592481732689083}), (18, 958, {'weight': 0.7593819429458606}), (18, 905, {'weight': 0.7734897124563915}), (18, 514, {'weight': 0.7785653570142792}), (18, 674, {'weight': 0.8092296010574199}), (18, 702, {'weight': 0.8241281760071395}), (19, 574, {'weight': 0.7345022732037447}), (20, 250, {'weight': 0.7533881238866572}), (20, 405, {'weight': 0.7944868955693363}), (20, 463, {'weight': 0.8316763687645672}), (24, 477, {'weight': 0.7488316334633691}), (24, 238, {'weight': 0.7626382534087971}), (24, 274, {'weight': 0.7677621945683231}), (24, 548, {'weight': 0.7835797883889966}), (24, 323, {'weight': 0.8023024135455092}), (24, 259, {'weight': 0.8069704933389915}), (24, 814, {'weight': 0.8079827066359289}), (29, 259, {'weight': 0.8465252991527636}), (43, 250, {'weight': 0.7744150515065704}), (43, 393, {'weight': 0.7834815665098209}), (52, 574, {'weight': 0.6791757886579162}), (77, 574, {'weight': 0.736726639754625}), (83, 683, {'weight': 0.7049356951288804}), (83, 256, {'weight': 0.7240319545127576}), (83, 129, {'weight': 0.7467979172669864}), (83, 476, {'weight': 0.7806783668277801}), (105, 141, {'weight': 0.751185332863588}), (105, 963, {'weight': 0.759056837918406}), (124, 363, {'weight': 0.7436138874037855}), (139, 683, {'weight': 0.7871715266455357}), (139, 266, {'weight': 0.7891069931796367}), (140, 511, {'weight': 0.8234974722416621}), (146, 477, {'weight': 0.7648142674185511}), (146, 151, {'weight': 0.8425255663164726}), (174, 113, {'weight': 0.7005592860626643}), (180, 574, {'weight': 0.7509490515176089}), (184, 706, {'weight': 0.6774230151827887}), (184, 633, {'weight': 0.7865788452436582}), (184, 455, {'weight': 0.8305208530713372}), (195, 496, {'weight': 0.8157998854259183}), (205, 574, {'weight': 0.8045383427715913}), (206, 113, {'weight': 0.6520739701587542}), (209, 356, {'weight': 0.8123650379829975}), (223, 928, {'weight': 0.7465040908380021}), (249, 225, {'weight': 0.7963975131331444}), (256, 574, {'weight': 0.720231326646348}), (256, 404, {'weight': 0.7317937730883417}), (256, 65, {'weight': 0.7413212906689414}), (262, 939, {'weight': 0.8393285256341212}), (271, 574, {'weight': 0.706844703786317}), (278, 574, {'weight': 0.7079591149400022}), (278, 886, {'weight': 0.826475963891786}), (279, 773, {'weight': 0.7844181789890277}), (287, 574, {'weight': 0.7762112799627532}), (287, 390, {'weight': 0.8318706131875557}), (306, 908, {'weight': 0.7462708142730732}), (306, 413, {'weight': 0.7733041815375602}), (347, 835, {'weight': 0.7794468023188486}), (347, 458, {'weight': 0.8089978966528091}), (348, 783, {'weight': 0.7642593213992278}), (353, 574, {'weight': 0.7596018746512063}), (353, 750, {'weight': 0.8079408525048656}), (356, 449, {'weight': 0.8125815042425324}), (363, 928, {'weight': 0.7511919754179346}), (363, 777, {'weight': 0.7828255010079509}), (383, 183, {'weight': 0.7570589963187434}), (383, 171, {'weight': 0.7743966582048492}), (398, 812, {'weight': 0.805756844139664}), (399, 548, {'weight': 0.7743820500686653}), (411, 926, {'weight': 0.8136192191084186}), (425, 574, {'weight': 0.7755236757219137}), (440, 928, {'weight': 0.7609405572143108}), (452, 574, {'weight': 0.7504305828810619}), (452, 67, {'weight': 0.7766940214240332}), (452, 16, {'weight': 0.7903777527304402}), (452, 387, {'weight': 0.8375009982275968}), (457, 224, {'weight': 0.724772281568425}), (469, 574, {'weight': 0.7313157913880962}), (488, 474, {'weight': 0.7608194835246548}), (514, 897, {'weight': 0.7640838427142977}), (523, 339, {'weight': 0.8062077848575655}), (523, 451, {'weight': 0.8269197246086778}), (534, 739, {'weight': 0.8356433123239284}), (548, 555, {'weight': 0.7785315717827674}), (566, 441, {'weight': 0.8238033484130179}), (574, 976, {'weight': 0.7764265011299565}), (574, 896, {'weight': 0.8209111411036399}), (616, 946, {'weight': 0.7935436899886468}), (685, 621, {'weight': 0.7810936421498722}), (688, 915, {'weight': 0.7509003981417195}), (726, 413, {'weight': 0.8054914622597249}), (733, 923, {'weight': 0.7629128300727617}), (797, 22, {'weight': 0.8678952999833417}), (824, 186, {'weight': 0.7952668234149071}), (833, 917, {'weight': 0.7604930229892803}), (871, 474, {'weight': 0.7830825884548784}), (905, 564, {'weight': 0.8267087098397805}), (908, 14, {'weight': 0.6790743536097039}), (908, 498, {'weight': 0.8143174253797537}), (908, 510, {'weight': 0.8267285683995257}), (944, 722, {'weight': 0.7815363075945236}), (44, 224, {'weight': 0.7221070718306648}), (50, 282, {'weight': 0.6996456473155351}), (50, 706, {'weight': 0.7452467308118437}), (143, 995, {'weight': 0.8462958541692253}), (155, 55, {'weight': 0.773712867937145}), (182, 202, {'weight': 0.6963720793454417}), (182, 918, {'weight': 0.7817086593227038}), (226, 776, {'weight': 0.8100754719414908}), (226, 945, {'weight': 0.8164941091408631}), (254, 231, {'weight': 0.7498453716480795}), (254, 362, {'weight': 0.7676440108879512}), (317, 747, {'weight': 0.6274501455267537}), (317, 228, {'weight': 0.6708419511627906}), (317, 314, {'weight': 0.7171889849582315}), (317, 385, {'weight': 0.7318968653714689}), (317, 828, {'weight': 0.8394232026148607}), (369, 952, {'weight': 0.7925240817614853}), (370, 450, {'weight': 0.7592887119886579}), (462, 746, {'weight': 0.8089630090896286}), (525, 670, {'weight': 0.7618696211989457}), (528, 665, {'weight': 0.7709807249512157}), (542, 897, {'weight': 0.7763298120460008}), (542, 652, {'weight': 0.7764344106914555}), (545, 707, {'weight': 0.8263733152394773}), (557, 755, {'weight': 0.7892940717017514}), (597, 917, {'weight': 0.7726317252841739}), (724, 789, {'weight': 0.7765905350952981}), (724, 650, {'weight': 0.7960230512195915}), (746, 329, {'weight': 0.802530679371056}), (753, 825, {'weight': 0.7401699954428483}), (787, 487, {'weight': 0.8034920905309451}), (793, 980, {'weight': 0.8399378399807331}), (817, 706, {'weight': 0.7715111087912556}), (817, 825, {'weight': 0.7744837890587226}), (817, 764, {'weight': 0.7861981924147075}), (821, 698, {'weight': 0.797828985431504}), (825, 585, {'weight': 0.8375676689725335}), (844, 294, {'weight': 0.8698991843760787}), (885, 231, {'weight': 0.5703203754217794}), (917, 943, {'weight': 0.8091653204018789}), (917, 513, {'weight': 0.8150857326824195}), (951, 299, {'weight': 0.8165351400505619}), (952, 607, {'weight': 0.7905005928033569}), (995, 224, {'weight': 0.7628778211942275}), (27, 743, {'weight': 0.7156309381776278}), (27, 101, {'weight': 0.7529606425523163}), (101, 626, {'weight': 0.6777055258152864}), (101, 823, {'weight': 0.7628994516197942}), (104, 191, {'weight': 0.7362548223289149}), (104, 69, {'weight': 0.7376523316727115}), (104, 883, {'weight': 0.7674678293959468}), (188, 367, {'weight': 0.7943009132197045}), (188, 699, {'weight': 0.8552361419524466}), (292, 216, {'weight': 0.8045302794963644}), (310, 204, {'weight': 0.6774373196145658}), (310, 887, {'weight': 0.7243227704096473}), (438, 887, {'weight': 0.7813967528475392}), (594, 345, {'weight': 0.8314453322176523}), (626, 898, {'weight': 0.7611828170896635}), (626, 295, {'weight': 0.801579063215623}), (626, 861, {'weight': 0.8615871237581096}), (671, 579, {'weight': 0.830395669412789}), (811, 193, {'weight': 0.8118471944571057}), (887, 722, {'weight': 0.7421518091396875}), (887, 780, {'weight': 0.7582921704533792}), (887, 336, {'weight': 0.7682792266050391}), (992, 993, {'weight': 0.8110577109535154}), (9, 471, {'weight': 0.7336863474683784}), (9, 232, {'weight': 0.8155906195855905}), (9, 66, {'weight': 0.8231916046368859}), (9, 28, {'weight': 0.874324839504705}), (22, 293, {'weight': 0.8400289452114869}), (45, 236, {'weight': 0.765815562765118}), (45, 641, {'weight': 0.7777464069051032}), (45, 136, {'weight': 0.8500723029791394}), (93, 902, {'weight': 0.7725826918915275}), (132, 532, {'weight': 0.8042876332446813}), (144, 636, {'weight': 0.8483060818284414}), (238, 743, {'weight': 0.7262999356849582}), (238, 225, {'weight': 0.7266567508245516}), (238, 375, {'weight': 0.7897939957883338}), (238, 289, {'weight': 0.83686707459635}), (264, 14, {'weight': 0.7822216860405357}), (471, 216, {'weight': 0.7331865855390243}), (471, 676, {'weight': 0.8144456875355596}), (511, 409, {'weight': 0.74654471242743}), (511, 538, {'weight': 0.79172849331065}), (551, 527, {'weight': 0.8027153340473143}), (558, 121, {'weight': 0.8173320348630588}), (567, 655, {'weight': 0.8134264550030685}), (575, 371, {'weight': 0.7097053478409789}), (607, 137, {'weight': 0.7366008234890011}), (613, 882, {'weight': 0.7805973243678037}), (711, 227, {'weight': 0.7813957007457123}), (752, 14, {'weight': 0.7684718965010446}), (752, 599, {'weight': 0.7808684533920959}), (755, 661, {'weight': 0.7908858423098823}), (763, 668, {'weight': 0.804802065803423}), (763, 547, {'weight': 0.8225522696164111}), (769, 474, {'weight': 0.8112125733115699}), (769, 330, {'weight': 0.9175979914354426}), (772, 474, {'weight': 0.7555960419856855}), (836, 838, {'weight': 0.7924398450087476}), (850, 670, {'weight': 0.8112896443748446}), (852, 113, {'weight': 0.7763327395010282}), (852, 630, {'weight': 0.7899238300566145}), (852, 454, {'weight': 0.8111991360845532}), (877, 773, {'weight': 0.7890306987954657}), (892, 955, {'weight': 0.7764072734328894}), (923, 159, {'weight': 0.7401838606917369}), (966, 360, {'weight': 0.7006728377174787}), (966, 473, {'weight': 0.8020183030660886}), (983, 609, {'weight': 0.7419950801161317}), (983, 856, {'weight': 0.8162302560400446}), (10, 291, {'weight': 0.8780238116454127}), (10, 732, {'weight': 0.8804385011741047}), (59, 527, {'weight': 0.7213404468423018}), (59, 339, {'weight': 0.7357893303463654}), (59, 199, {'weight': 0.8297366350668436}), (90, 732, {'weight': 0.824398685897415}), (175, 930, {'weight': 0.7727774480962974}), (175, 612, {'weight': 0.7922533113137847}), (175, 21, {'weight': 0.8076080363049225}), (175, 251, {'weight': 0.8196674888758464}), (175, 740, {'weight': 0.8229725735962232}), (296, 924, {'weight': 0.8660922112460958}), (301, 591, {'weight': 0.7396500271425674}), (527, 812, {'weight': 0.7636472809217564}), (612, 231, {'weight': 0.5960365550880025}), (668, 670, {'weight': 0.7325689112336539}), (668, 103, {'weight': 0.8772688043014546}), (698, 791, {'weight': 0.7917075178283101}), (698, 901, {'weight': 0.8402539026609843}), (713, 98, {'weight': 0.7253836229070741}), (725, 788, {'weight': 0.7350801979041146}), (725, 240, {'weight': 0.7436721893518057}), (725, 841, {'weight': 0.7468626229300982}), (725, 818, {'weight': 0.8663915705219806}), (732, 360, {'weight': 0.7349378828907183}), (788, 78, {'weight': 0.6565646413158639}), (788, 670, {'weight': 0.6818968707523658}), (788, 212, {'weight': 0.7064726310832266}), (642, 795, {'weight': 0.8209741865122792}), (791, 371, {'weight': 0.7276247910510532}), (815, 447, {'weight': 0.82013020263272}), (815, 883, {'weight': 0.825936601423499}), (980, 839, {'weight': 0.753913125871722}), (16, 415, {'weight': 0.7895570482165474}), (34, 244, {'weight': 0.8257914429564391}), (48, 128, {'weight': 0.7922028498713808}), (55, 265, {'weight': 0.7579155076618831}), (55, 113, {'weight': 0.7581289329589282}), (62, 113, {'weight': 0.6428693974609829}), (68, 224, {'weight': 0.7676601609250076}), (68, 229, {'weight': 0.7682004852753237}), (68, 173, {'weight': 0.8246750454705405}), (74, 113, {'weight': 0.6357824135618024}), (109, 454, {'weight': 0.8313313390731312}), (110, 224, {'weight': 0.8048676598108233}), (111, 112, {'weight': 2.220446049250313e-16}), (111, 404, {'weight': 0.7672601576130866}), (113, 889, {'weight': 0.5845127276514335}), (113, 406, {'weight': 0.6283936044708829}), (113, 655, {'weight': 0.7413527605389401}), (142, 963, {'weight': 0.7659735086981436}), (204, 647, {'weight': 0.6042798691131364}), (204, 480, {'weight': 0.7276939910755268}), (204, 39, {'weight': 0.7303416282907779}), (204, 368, {'weight': 0.7710542662028412}), (204, 381, {'weight': 0.8103302500284729}), (213, 158, {'weight': 0.7023972034324699}), (213, 185, {'weight': 0.7583680953101115}), (213, 786, {'weight': 0.7980806834742824}), (222, 119, {'weight': 0.7480612707752172}), (224, 849, {'weight': 0.7445985179116601}), (224, 906, {'weight': 0.8444214744527199}), (283, 133, {'weight': 0.7513810038997755}), (283, 838, {'weight': 0.757200452132816}), (283, 97, {'weight': 0.788654075217999}), (437, 106, {'weight': 0.8121552541855911}), (480, 693, {'weight': 0.8199269556721301}), (728, 963, {'weight': 0.7897203726331997}), (735, 410, {'weight': 0.7550220694212159}), (735, 82, {'weight': 0.7640223165631921}), (839, 729, {'weight': 0.7741892003819669}), (854, 227, {'weight': 0.7603377428000624}), (151, 577, {'weight': 0.8637137911653945}), (332, 14, {'weight': 0.6878200863997128}), (332, 556, {'weight': 0.767752324021086}), (333, 193, {'weight': 0.7799848412497108}), (333, 170, {'weight': 0.8552169450665451}), (579, 516, {'weight': 0.7990079922856866}), (586, 516, {'weight': 0.8236011058963593}), (780, 275, {'weight': 0.7786511540288918}), (902, 599, {'weight': 0.7700310963732675}), (939, 219, {'weight': 0.8076319819477047}), (950, 193, {'weight': 0.6687363220645315}), (950, 270, {'weight': 0.8038158601360603}), (14, 748, {'weight': 0.6469438877409446}), (14, 959, {'weight': 0.6844179387985867}), (14, 219, {'weight': 0.7060176061434664}), (14, 208, {'weight': 0.7179148776105871}), (14, 882, {'weight': 0.724999279044506}), (14, 926, {'weight': 0.767938943861052}), (14, 745, {'weight': 0.7699269464839193}), (14, 123, {'weight': 0.8167621228234628}), (14, 968, {'weight': 0.8346047789122646}), (78, 963, {'weight': 0.7235153428727638}), (117, 193, {'weight': 0.8202239711709032}), (152, 193, {'weight': 0.718864406281162}), (176, 231, {'weight': 0.49457760229726533}), (193, 748, {'weight': 0.6469438877409446}), (193, 505, {'weight': 0.6485544812938691}), (193, 716, {'weight': 0.6648361094040294}), (193, 743, {'weight': 0.6671062220421883}), (193, 311, {'weight': 0.6905170737242303}), (193, 835, {'weight': 0.7182329088661159}), (193, 467, {'weight': 0.7203505325444481}), (193, 491, {'weight': 0.7234486895593573}), (193, 247, {'weight': 0.7714765909518251}), (193, 422, {'weight': 0.801521983254217}), (212, 501, {'weight': 0.7123683802615466}), (231, 281, {'weight': 0.0}), (231, 324, {'weight': 0.0}), (231, 331, {'weight': 0.0}), (231, 395, {'weight': 0.0}), (231, 504, {'weight': 0.0}), (231, 515, {'weight': 0.0}), (231, 601, {'weight': 0.0}), (231, 615, {'weight': 0.0}), (231, 867, {'weight': 0.0}), (231, 948, {'weight': 0.0}), (231, 994, {'weight': 0.0}), (231, 516, {'weight': 0.40296007721656724}), (231, 670, {'weight': 0.44047738133431724}), (231, 600, {'weight': 0.47644778196339965}), (231, 775, {'weight': 0.47644778196339965}), (231, 893, {'weight': 0.5045046867709332}), (231, 794, {'weight': 0.5176056608911255}), (231, 412, {'weight': 0.5503175128989737}), (231, 876, {'weight': 0.5503175128989737}), (231, 705, {'weight': 0.5656664288632418}), (231, 875, {'weight': 0.5656664288632418}), (231, 313, {'weight': 0.5857830821957364}), (231, 508, {'weight': 0.666311712106467}), (231, 916, {'weight': 0.7537119950803557}), (231, 989, {'weight': 0.7554700005822099}), (231, 416, {'weight': 0.769995530096119}), (247, 277, {'weight': 0.8090423997962763}), (252, 467, {'weight': 0.8046295484142043}), (374, 835, {'weight': 0.7548560331340982}), (396, 39, {'weight': 0.7317165769048388}), (449, 883, {'weight': 0.7785201323460275}), (449, 636, {'weight': 0.847753874715465}), (467, 546, {'weight': 0.7728467688447591}), (467, 309, {'weight': 0.7808711685463365}), (467, 253, {'weight': 0.8578495431526642}), (491, 640, {'weight': 0.8174405965222754}), (491, 475, {'weight': 0.8391641521993841}), (516, 588, {'weight': 0.7953612864368941}), (516, 518, {'weight': 0.839269487941399}), (556, 486, {'weight': 0.7770594338307427}), (562, 659, {'weight': 0.7733694806286795}), (664, 681, {'weight': 0.8010209464632441}), (667, 675, {'weight': 0.6980662493284226}), (670, 524, {'weight': 0.6419597085156463}), (670, 202, {'weight': 0.6970933107448487}), (670, 591, {'weight': 0.7354998450472736}), (670, 346, {'weight': 0.7736433124987834}), (708, 239, {'weight': 0.8023905060403363}), (716, 200, {'weight': 0.7561278785514582}), (716, 482, {'weight': 0.8382341053452467}), (727, 227, {'weight': 0.6964177867149965}), (727, 747, {'weight': 0.6964177867149965}), (743, 686, {'weight': 0.7699384618154543}), (775, 700, {'weight': 0.7178506423472979}), (799, 159, {'weight': 0.7518574454324896}), (893, 910, {'weight': 0.7856820938855759}), (916, 765, {'weight': 0.815464689799258}), (916, 177, {'weight': 0.8311286864597789}), (926, 128, {'weight': 0.7898979484130477}), (926, 303, {'weight': 0.7932977146375751}), (926, 40, {'weight': 0.8562172830835457}), (949, 474, {'weight': 0.7796645479522252}), (949, 565, {'weight': 0.8586361109993987}), (630, 858, {'weight': 0.7885822936045783}), (42, 202, {'weight': 0.825173079383146}), (42, 439, {'weight': 0.8370785118159266}), (67, 874, {'weight': 0.7968279312688495}), (76, 229, {'weight': 0.8093036371480393}), (119, 371, {'weight': 0.7483591908184501}), (119, 359, {'weight': 0.8066601310492165}), (119, 544, {'weight': 0.8287415305048477}), (202, 675, {'weight': 0.6109126554388823}), (202, 456, {'weight': 0.7511756233896236}), (240, 236, {'weight': 0.7541835424085984}), (240, 956, {'weight': 0.7974876800174032}), (293, 360, {'weight': 0.6493892621597899}), (293, 485, {'weight': 0.8482680111778629}), (304, 187, {'weight': 0.7697524694334975}), (304, 689, {'weight': 0.7752050474666051}), (334, 25, {'weight': 0.7788298125841444}), (362, 638, {'weight': 0.8313365909367206}), (391, 431, {'weight': 0.8004526560189149}), (468, 295, {'weight': 0.7947279832108699}), (621, 492, {'weight': 0.7852766288711625}), (621, 622, {'weight': 0.8014972660487352}), (621, 946, {'weight': 0.822667044477145}), (648, 194, {'weight': 0.7924748113854521}), (648, 637, {'weight': 0.8300245113356935}), (795, 700, {'weight': 0.7417803859255624}), (795, 954, {'weight': 0.7762387592937946}), (927, 404, {'weight': 0.7836568475559048}), (927, 560, {'weight': 0.8032128845088355}), (956, 366, {'weight': 0.8598926147634333}), (31, 153, {'weight': 0.7912445717340469}), (128, 367, {'weight': 0.7853621729258213}), (154, 54, {'weight': 0.717763435170029}), (154, 218, {'weight': 0.7553192035000864}), (228, 360, {'weight': 0.6666249475245761}), (228, 39, {'weight': 0.6702165963895337}), (228, 121, {'weight': 0.7119562537640487}), (228, 450, {'weight': 0.7129134648126911}), (228, 203, {'weight': 0.72964851443694}), (280, 486, {'weight': 0.8105455490518241}), (321, 639, {'weight': 0.815952165154064}), (355, 474, {'weight': 0.7545552501899027}), (355, 79, {'weight': 0.7857104664182}), (360, 80, {'weight': 0.6812739425565544}), (360, 239, {'weight': 0.7367832065804258}), (360, 629, {'weight': 0.7470278308154397}), (360, 960, {'weight': 0.7480373243381184}), (360, 880, {'weight': 0.8158437996325261}), (394, 89, {'weight': 0.7298305376181975}), (394, 540, {'weight': 0.8777797989676795}), (408, 189, {'weight': 0.7704818613365707}), (408, 899, {'weight': 0.8288662547778003}), (496, 426, {'weight': 0.831720584223243}), (639, 537, {'weight': 0.7764717211666581}), (655, 714, {'weight': 0.790023941832397}), (655, 969, {'weight': 0.7984814162523067}), (677, 696, {'weight': 0.8179390103052046}), (936, 599, {'weight': 0.8122854562010529}), (230, 235, {'weight': 0.753637676692427}), (288, 153, {'weight': 0.8048024853963512}), (305, 314, {'weight': 0.7355018305246683}), (433, 920, {'weight': 0.752048170356771}), (487, 158, {'weight': 0.7649457155970636}), (487, 938, {'weight': 0.8189360899803348}), (537, 747, {'weight': 0.7622939915888561}), (503, 706, {'weight': 0.7466008548953609}), (503, 964, {'weight': 0.8275374843822987}), (605, 191, {'weight': 0.8144721842021987}), (303, 81, {'weight': 0.8560709250803175}), (441, 928, {'weight': 0.779553308008014}), (466, 82, {'weight': 0.7662544188034386}), (466, 535, {'weight': 0.805014145812945}), (868, 25, {'weight': 0.798653710388405}), (928, 816, {'weight': 0.8333898888918864}), (734, 747, {'weight': 0.7601896722246846}), (826, 227, {'weight': 0.825567609834069}), (178, 308, {'weight': 0.8405114792111679}), (299, 236, {'weight': 0.732967266686781}), (417, 590, {'weight': 0.7777588059409289}), (417, 840, {'weight': 0.8135298262409599}), (436, 443, {'weight': 0.7557760797216806}), (501, 742, {'weight': 0.7660024726343673}), (501, 645, {'weight': 0.8997819623923637}), (550, 141, {'weight': 0.8153309589004316}), (606, 371, {'weight': 0.7536764585053101}), (609, 371, {'weight': 0.7514356635726606}), (673, 834, {'weight': 0.8260190122981695}), (789, 255, {'weight': 0.8048300113082754}), (789, 87, {'weight': 0.8294020011156357}), (789, 761, {'weight': 0.8489123060198254}), (834, 323, {'weight': 0.7478778663154826}), (834, 448, {'weight': 0.7930171205370575}), (191, 245, {'weight': 0.7263915229214546}), (191, 618, {'weight': 0.8270267002844925}), (210, 227, {'weight': 0.7628478120285495}), (338, 137, {'weight': 0.7764388242922314}), (806, 604, {'weight': 0.790522258146825}), (806, 879, {'weight': 0.7907880721189838}), (830, 345, {'weight': 0.8445585612692328}), (25, 343, {'weight': 0.7565136797517288}), (65, 492, {'weight': 0.7860630999715013}), (65, 165, {'weight': 0.8058508962354263}), (189, 492, {'weight': 0.784207302645078}), (190, 339, {'weight': 0.7655273534856737}), (215, 168, {'weight': 0.7679459880967057}), (218, 955, {'weight': 0.6288917694399196}), (218, 133, {'weight': 0.754505990398234}), (218, 931, {'weight': 0.7602519336695862}), (329, 888, {'weight': 0.8671191167545023}), (583, 53, {'weight': 0.841390626917001}), (617, 122, {'weight': 0.822255637925617}), (661, 967, {'weight': 0.8201818245054977}), (801, 675, {'weight': 0.7173773884392527}), (845, 920, {'weight': 0.741315471445339}), (881, 456, {'weight': 0.7695823286442802}), (911, 194, {'weight': 0.7963332387314204}), (79, 658, {'weight': 0.8020913509416502}), (89, 216, {'weight': 0.6884343365171193}), (89, 159, {'weight': 0.6892148247738272}), (130, 750, {'weight': 0.8239747429024308}), (157, 98, {'weight': 0.7186642351256098}), (157, 593, {'weight': 0.7186642351256098}), (157, 196, {'weight': 0.7345104407524006}), (159, 242, {'weight': 0.6873152818221265}), (159, 500, {'weight': 0.7236523495799891}), (196, 242, {'weight': 0.611539266378148}), (196, 38, {'weight': 0.7027720047529471}), (196, 862, {'weight': 0.7437488741876986}), (196, 610, {'weight': 0.7501145633973987}), (196, 681, {'weight': 0.7597216847962146}), (216, 802, {'weight': 0.7297102655719772}), (344, 314, {'weight': 0.6916741515581152}), (344, 774, {'weight': 0.8136307870285691}), (608, 122, {'weight': 0.7160907207621867}), (659, 98, {'weight': 0.7469409795319717}), (870, 187, {'weight': 0.7976285552492332}), (903, 675, {'weight': 0.7830150420875092}), (86, 593, {'weight': 0.7588517729962589}), (118, 975, {'weight': 0.820804809385392}), (345, 308, {'weight': 0.7667728644747857}), (345, 378, {'weight': 0.8544001709575164}), (345, 947, {'weight': 0.8804193761259134}), (376, 513, {'weight': 0.8688541685967517}), (404, 663, {'weight': 0.693643049803299}), (499, 809, {'weight': 0.8168427934850606}), (646, 915, {'weight': 0.773553294906552}), (646, 63, {'weight': 0.7853931045522421}), (847, 158, {'weight': 0.7747518775021541}), (33, 153, {'weight': 0.8110791071888012}), (153, 653, {'weight': 0.6972277380391476}), (153, 300, {'weight': 0.6995663037264099}), (153, 478, {'weight': 0.776041109720549}), (158, 675, {'weight': 0.6627359120428836}), (675, 92, {'weight': 0.6497723147196278}), (715, 137, {'weight': 0.7427555367186998}), (54, 352, {'weight': 0.778256999342791}), (54, 701, {'weight': 0.7943133155215232}), (98, 978, {'weight': 0.7998182128084184}), (532, 802, {'weight': 0.7247592103411505}), (694, 701, {'weight': 0.8675940426141802}), (694, 977, {'weight': 0.8700004922579301}), (700, 707, {'weight': 0.8026324522134154}), (703, 706, {'weight': 0.7843551866288596}), (82, 539, {'weight': 0.8068133987017372}), (483, 339, {'weight': 0.7538368645485203}), (858, 941, {'weight': 0.7928331656468999}), (92, 237, {'weight': 0.6764553690442445}), (474, 934, {'weight': 0.7452645268909008}), (665, 920, {'weight': 0.6968316057055244}), (665, 371, {'weight': 0.7148750331976268}), (680, 510, {'weight': 0.8633299640143751}), (690, 692, {'weight': 0.7921092518177075}), (690, 993, {'weight': 0.810784859204505}), (35, 337, {'weight': 0.8540522000349031}), (37, 782, {'weight': 0.7343536664849335}), (37, 358, {'weight': 0.837132511341827}), (51, 633, {'weight': 0.8265655079300553}), (349, 857, {'weight': 0.7384393475536706}), (402, 435, {'weight': 0.7402170690663654}), (402, 339, {'weight': 0.7500396083240427}), (402, 166, {'weight': 0.7615387215358844}), (512, 706, {'weight': 0.8167714109829698}), (512, 855, {'weight': 0.8402141691936896}), (706, 697, {'weight': 0.7400983727455948}), (706, 859, {'weight': 0.803542830742065}), (233, 782, {'weight': 0.8657829480960904}), (276, 782, {'weight': 0.6982030319783183}), (286, 339, {'weight': 0.7492402787136503}), (339, 521, {'weight': 0.7075383737998535}), (339, 207, {'weight': 0.7533161481940936}), (339, 953, {'weight': 0.7782233632680765}), (521, 653, {'weight': 0.6801746345971167}), (782, 971, {'weight': 0.7481015169869559}), (971, 970, {'weight': 0.7514916096118063}), (245, 662, {'weight': 0.7350538500451449}), (298, 300, {'weight': 0.7255415426322516}), (792, 920, {'weight': 0.7329621627662872}), (792, 619, {'weight': 0.7763975329259758}), (632, 200, {'weight': 0.826534410999901}), (865, 938, {'weight': 0.8095559851847547}), (102, 443, {'weight': 0.7522440215799587}), (102, 300, {'weight': 0.756185548638806}), (102, 590, {'weight': 0.7663917482598699}), (102, 423, {'weight': 0.8226330172132699}), (568, 133, {'weight': 0.8462675888684077}), (582, 47, {'weight': 0.8552144823906191}), (953, 598, {'weight': 0.833175120170625}), (236, 965, {'weight': 0.7565085314899337}), (47, 60, {'weight': 0.8288406169929511}), (60, 599, {'weight': 0.8308581009237539}), (263, 300, {'weight': 0.7853208311145126}), (300, 316, {'weight': 0.8146025964629812}), (884, 69, {'weight': 0.7843397425682773}), (884, 571, {'weight': 0.7916054539842723}), (884, 672, {'weight': 0.8098095783930657}), (862, 857, {'weight': 0.7476221788672077}), (308, 812, {'weight': 0.7517559769515149}), (308, 771, {'weight': 0.8460605117407003}), (823, 895, {'weight': 0.7663514739708692}), (874, 430, {'weight': 0.7857555080703785}), (714, 894, {'weight': 0.7935260441096403}), (924, 194, {'weight': 0.8102428329700332}), (973, 999, {'weight': 0.8263366834821775}), (80, 122, {'weight': 0.7073346177373897}), (122, 371, {'weight': 0.6952475503539453}), (519, 963, {'weight': 0.8503513567769249}), (580, 840, {'weight': 0.8138310587546981}), (314, 691, {'weight': 0.8181681623825062}), (572, 747, {'weight': 0.6996467942524394}), (697, 747, {'weight': 0.7230448566285067}), (756, 187, {'weight': 0.819365661477942}), (838, 940, {'weight': 0.8700154409674813}), (970, 187, {'weight': 0.7678982762686011}), (133, 260, {'weight': 0.8432358762138793}), (931, 692, {'weight': 0.7670010643016784}), (168, 500, {'weight': 0.7459501942689248})]\n"
     ]
    }
   ],
   "source": [
    "open('Data/MST_3_1000.txt', 'w')\n",
    "nx.write_edgelist(MST, \"Data/MST_3_1000.txt\", data=['weight'])\n",
    "print(MST.edges(data=True))"
   ]
  },
  {
   "attachments": {},
   "cell_type": "markdown",
   "metadata": {},
   "source": [
    "# Q3: Let A’ be the adjacency matrix of G’. Compute the adjacency matrix A’.\n"
   ]
  },
  {
   "cell_type": "code",
   "execution_count": 28,
   "metadata": {},
   "outputs": [],
   "source": [
    "G_Matrix=nx.adjacency_matrix(MST_3).todense()"
   ]
  },
  {
   "attachments": {},
   "cell_type": "markdown",
   "metadata": {},
   "source": [
    "# Q4: Find the degree matrix D of G’, where each D(i,j)=0, i≠j and D(i,i)=∑j∈N(i)A’(i,j).\n"
   ]
  },
  {
   "cell_type": "code",
   "execution_count": 29,
   "metadata": {},
   "outputs": [
    {
     "name": "stdout",
     "output_type": "stream",
     "text": [
      "[[16.61346975  0.          0.         ...  0.          0.\n",
      "   0.        ]\n",
      " [ 0.          3.08126467  0.         ...  0.          0.\n",
      "   0.        ]\n",
      " [ 0.          0.          3.72694069 ...  0.          0.\n",
      "   0.        ]\n",
      " ...\n",
      " [ 0.          0.          0.         ...  4.86317313  0.\n",
      "   0.        ]\n",
      " [ 0.          0.          0.         ...  0.          0.0992479\n",
      "   0.        ]\n",
      " [ 0.          0.          0.         ...  0.          0.\n",
      "   2.59119709]]\n"
     ]
    }
   ],
   "source": [
    "Deg_Matrix = np.zeros((len(G_Matrix),len(G_Matrix)))\n",
    "for i in range(len(G_Matrix)):\n",
    "    Deg_Matrix[i][i] = np.sum(G_Matrix[i])\n",
    "\n",
    "print(Deg_Matrix)"
   ]
  },
  {
   "attachments": {},
   "cell_type": "markdown",
   "metadata": {},
   "source": [
    "# Q.5 Compute the Laplacian Matrix L= D-A’."
   ]
  },
  {
   "cell_type": "code",
   "execution_count": 30,
   "metadata": {},
   "outputs": [
    {
     "name": "stdout",
     "output_type": "stream",
     "text": [
      "[[16.61346975 -0.76516955 -0.6918843  ...  0.          0.\n",
      "   0.        ]\n",
      " [-0.76516955  3.08126467  0.         ...  0.          0.\n",
      "   0.        ]\n",
      " [-0.6918843   0.          3.72694069 ...  0.          0.\n",
      "   0.        ]\n",
      " ...\n",
      " [ 0.          0.          0.         ...  4.86317313  0.\n",
      "   0.        ]\n",
      " [ 0.          0.          0.         ...  0.          0.0992479\n",
      "   0.        ]\n",
      " [ 0.          0.          0.         ...  0.          0.\n",
      "   2.59119709]]\n"
     ]
    }
   ],
   "source": [
    "L_Matrix = Deg_Matrix - G_Matrix\n",
    "print(L_Matrix)"
   ]
  },
  {
   "attachments": {},
   "cell_type": "markdown",
   "metadata": {},
   "source": [
    "# Q6: Compute first k eigenvectors v1, v2, v3, vk of L, where k is the number of clusters in your dataset.\n"
   ]
  },
  {
   "cell_type": "code",
   "execution_count": 31,
   "metadata": {},
   "outputs": [],
   "source": [
    "eigenvalues, eigenvectors = np.linalg.eig(L_Matrix)\n",
    "numClusters = 3\n",
    "\n",
    "idx = eigenvalues.argsort()[::-1]\n",
    "eigenvalues = eigenvalues[idx]\n",
    "eigenvectors = eigenvectors[:,idx]\n",
    "\n",
    "topKVectors = eigenvectors[:, :numClusters]"
   ]
  },
  {
   "attachments": {},
   "cell_type": "markdown",
   "metadata": {},
   "source": [
    "# Q7: Form a n*k matrix U, where each eigenvector vi; 1≤i≤k is stacked as a column in U. Treat each row ui 1≤i≤n of U as a data point\n"
   ]
  },
  {
   "cell_type": "code",
   "execution_count": 32,
   "metadata": {},
   "outputs": [],
   "source": [
    "U_Matrix=np.zeros((len(G_Matrix),numClusters))\n",
    "for i in range(len(G_Matrix)):\n",
    "    U_Matrix[i] = topKVectors[i]"
   ]
  },
  {
   "cell_type": "code",
   "execution_count": 33,
   "metadata": {},
   "outputs": [
    {
     "name": "stdout",
     "output_type": "stream",
     "text": [
      "(984, 3)\n"
     ]
    }
   ],
   "source": [
    "print(U_Matrix.shape)"
   ]
  },
  {
   "attachments": {},
   "cell_type": "markdown",
   "metadata": {},
   "source": [
    "# Q8: Apply k-means and MST based clustering algorithm to partition the points ui=1,2,3,....n into k clusters."
   ]
  },
  {
   "cell_type": "code",
   "execution_count": 34,
   "metadata": {},
   "outputs": [
    {
     "name": "stdout",
     "output_type": "stream",
     "text": [
      "0.9891455951665729\n"
     ]
    },
    {
     "name": "stderr",
     "output_type": "stream",
     "text": [
      "/Users/deepwalke/Library/Python/3.9/lib/python/site-packages/sklearn/cluster/_kmeans.py:870: FutureWarning: The default value of `n_init` will change from 10 to 'auto' in 1.4. Set the value of `n_init` explicitly to suppress the warning\n",
      "  warnings.warn(\n"
     ]
    }
   ],
   "source": [
    "from sklearn.cluster import KMeans\n",
    "kmeans = KMeans(n_clusters=3, random_state=0).fit(U_Matrix)\n",
    "\n",
    "from sklearn.metrics import silhouette_score\n",
    "print(silhouette_score(U_Matrix, kmeans.labels_, metric='euclidean'))"
   ]
  },
  {
   "cell_type": "code",
   "execution_count": 35,
   "metadata": {},
   "outputs": [],
   "source": [
    "# MST based clustering algorithm\n",
    "G_new = makeGraph(U_Matrix)\n",
    "MST_new  = nx.minimum_spanning_tree(G_new)\n",
    "nx.write_edgelist(MST_new, \"Data/MST2_3_1000.txt\", data=['weight'])\n",
    "\n",
    "# remmove k largest edges\n",
    "k = numClusters-1\n",
    "G_new_copy = copy.deepcopy(G_new)\n",
    "for _ in range(k):\n",
    "    maxEdge = max(MST_new.edges(data=True), key=lambda x: x[2]['weight'])\n",
    "    MST_new.remove_edge(maxEdge[0], maxEdge[1])"
   ]
  },
  {
   "cell_type": "code",
   "execution_count": 36,
   "metadata": {},
   "outputs": [
    {
     "name": "stdout",
     "output_type": "stream",
     "text": [
      "-0.06566420224954977\n"
     ]
    }
   ],
   "source": [
    "subgraphs = [MST_new.subgraph(c).copy() for c in nx.connected_components(MST_new)]\n",
    "labels = [0] * len(MST_new.nodes())\n",
    "for i in range(len(MST_new.nodes())):\n",
    "    for j in range(len(subgraphs)):\n",
    "        if i in subgraphs[j].nodes():\n",
    "            labels[i] = j\n",
    "\n",
    "# shilouette score\n",
    "G_New_Matrix = nx.adjacency_matrix(G_new).todense()\n",
    "from sklearn.metrics import silhouette_score\n",
    "print(silhouette_score(G_New_Matrix, labels, metric='euclidean'))"
   ]
  },
  {
   "cell_type": "code",
   "execution_count": 41,
   "metadata": {},
   "outputs": [
    {
     "data": {
      "image/png": "[encoded data removed]",
      "text/plain": [
       "<Figure size 640x480 with 1 Axes>"
      ]
     },
     "metadata": {},
     "output_type": "display_data"
    }
   ],
   "source": [
    "# plot the graph\n",
    "pos = nx.spring_layout(G_new)\n",
    "nx.draw(G_new, pos, node_color=labels, node_size=50, cmap=plt.cm.RdYlBu, edge_color='grey')\n",
    "plt.show()"
   ]
  }
 ],
 "metadata": {
  "kernelspec": {
   "display_name": "Python 3",
   "language": "python",
   "name": "python3"
  },
  "language_info": {
   "codemirror_mode": {
    "name": "ipython",
    "version": 3
   },
   "file_extension": ".py",
   "mimetype": "text/x-python",
   "name": "python",
   "nbconvert_exporter": "python",
   "pygments_lexer": "ipython3",
   "version": "3.9.6"
  },
  "orig_nbformat": 4,
  "vscode": {
   "interpreter": {
    "hash": "31f2aee4e71d21fbe5cf8b01ff0e069b9275f58929596ceb00d14d90e3e16cd6"
   }
  }
 },
 "nbformat": 4,
 "nbformat_minor": 2
}
